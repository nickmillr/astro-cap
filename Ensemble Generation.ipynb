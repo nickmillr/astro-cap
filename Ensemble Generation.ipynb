{
 "metadata": {
  "name": "",
  "signature": "sha256:f1c1d37bb7e937d7808a5fca4a0286131b522664c48dc6f038ba4d8c65b1a7f9"
 },
 "nbformat": 3,
 "nbformat_minor": 0,
 "worksheets": [
  {
   "cells": [
    {
     "cell_type": "code",
     "collapsed": false,
     "input": [
      "%pylab inline\n",
      "import uuid\n",
      "import pickle\n",
      "import datetime\n",
      "\n",
      "import starlibrary\n",
      "from IPython.parallel import Client\n",
      "rc = Client(profile=\"Miller\")\n",
      "len(rc.ids)"
     ],
     "language": "python",
     "metadata": {},
     "outputs": [
      {
       "output_type": "stream",
       "stream": "stdout",
       "text": [
        "Populating the interactive namespace from numpy and matplotlib\n"
       ]
      },
      {
       "output_type": "stream",
       "stream": "stderr",
       "text": [
        "/opt/anaconda/lib/python2.7/site-packages/pytz/__init__.py:29: UserWarning: Module argparse was already imported from /opt/anaconda/lib/python2.7/argparse.pyc, but /opt/anaconda/lib/python2.7/site-packages is being added to sys.path\n",
        "  from pkg_resources import resource_stream\n"
       ]
      },
      {
       "metadata": {},
       "output_type": "pyout",
       "prompt_number": 2,
       "text": [
        "80"
       ]
      }
     ],
     "prompt_number": 2
    },
    {
     "cell_type": "code",
     "collapsed": false,
     "input": [
      "lbv = rc.load_balanced_view()"
     ],
     "language": "python",
     "metadata": {},
     "outputs": [],
     "prompt_number": 3
    },
    {
     "cell_type": "code",
     "collapsed": false,
     "input": [
      "def run_ensemble(rc=rc, nruns=10, nstars=100, kingmodel=True, **kwargs):\n",
      "    starttime = datetime.datetime.now()\n",
      "    print \"Starting at \", starttime\n",
      "    lbv = rc.load_balanced_view()\n",
      "    runs = [starlibrary.Run(nstars=nstars, kingmodel=kingmodel, **kwargs)]*nruns\n",
      "\n",
      "    print \"Launching %d runs\" % nruns\n",
      "    results = lbv.map(starlibrary.single_run, runs)\n",
      "    results.wait()\n",
      "    \n",
      "    ensemble_uuid = uuid.uuid1()\n",
      "    ensemble_results_file_name = str(ensemble_uuid)+\".ensemble\"\n",
      "    ensemble_results_file = open(ensemble_results_file_name, \"wb\")\n",
      "\n",
      "    print \"Storing results in %s\" %ensemble_results_file_name\n",
      "    resultlist = results[:]\n",
      "    pickle.dump(resultlist, ensemble_results_file)\n",
      "    \n",
      "    endtime = datetime.datetime.now()\n",
      "    print \"Finished at \", endtime\n",
      "    print \"Elapsed time: \", endtime - starttime "
     ],
     "language": "python",
     "metadata": {},
     "outputs": [],
     "prompt_number": 4
    },
    {
     "cell_type": "markdown",
     "metadata": {},
     "source": [
      "______________________________________________"
     ]
    },
    {
     "cell_type": "heading",
     "level": 4,
     "metadata": {},
     "source": [
      "Generation 1 (10/13/14)"
     ]
    },
    {
     "cell_type": "code",
     "collapsed": false,
     "input": [
      "starlibrary.list_ensembles()"
     ],
     "language": "python",
     "metadata": {},
     "outputs": [
      {
       "output_type": "stream",
       "stream": "stdout",
       "text": [
        "7 ensembles:\n",
        "\n",
        "./fe533ea8-ab8a-11e4-9a48-90e2ba0993e2.ensemble -- King model; 160 runs 2600 stars "
       ]
      },
      {
       "output_type": "stream",
       "stream": "stdout",
       "text": [
        "\n",
        "./345f0dd6-a9f8-11e4-9a48-90e2ba0993e2.ensemble -- King model; 160 runs 2600 stars \n",
        "./31e868b8-497c-11e4-89fc-90e2ba0993e2.ensemble -- King model; 5 runs 1000 stars \n",
        "./f6ff79e2-a95e-11e4-90e0-90e2ba0993e2.ensemble -- King model; 10 runs 100 stars \n",
        "./8e00e316-aa91-11e4-9a48-90e2ba0993e2.ensemble -- King model; 160 runs 2600 stars "
       ]
      },
      {
       "output_type": "stream",
       "stream": "stdout",
       "text": [
        "\n",
        "./168a2528-48ac-11e4-9c1c-90e2ba0993e2.ensemble -- Plummer model; 10 runs 100 stars \n",
        "./cfcb0892-ab33-11e4-9a48-90e2ba0993e2.ensemble -- King model; 160 runs 2600 stars \n"
       ]
      }
     ],
     "prompt_number": 5
    },
    {
     "cell_type": "markdown",
     "metadata": {},
     "source": [
      "______________________________________________"
     ]
    },
    {
     "cell_type": "markdown",
     "metadata": {},
     "source": [
      "The Cluster below should be a 2600 star cluster run 160 times, using mass type 2, meaning millerscalo with $ \\alpha = 0 $. We have a 10 percent 1-10 kT binary population we plan to use for each cluster."
     ]
    },
    {
     "cell_type": "code",
     "collapsed": false,
     "input": [
      "run_ensemble(rc, nstars=2600, nruns=160, kingmodel=True, masstype=2, exponent=0, binarypercent=.1, binarypoplower = 1.0, binarypopupper = 10)"
     ],
     "language": "python",
     "metadata": {},
     "outputs": [
      {
       "output_type": "stream",
       "stream": "stdout",
       "text": [
        "Starting at  2015-01-31 17:46:15.733901\n",
        "Launching 160 runs\n",
        "Storing results in 345f0dd6-a9f8-11e4-9a48-90e2ba0993e2.ensemble"
       ]
      },
      {
       "output_type": "stream",
       "stream": "stdout",
       "text": [
        "\n",
        "Finished at  2015-02-01 04:53:42.383921\n",
        "Elapsed time:  11:07:26.650020\n"
       ]
      }
     ],
     "prompt_number": 6
    },
    {
     "cell_type": "code",
     "collapsed": false,
     "input": [
      "ls *.ensemble"
     ],
     "language": "python",
     "metadata": {},
     "outputs": [
      {
       "output_type": "stream",
       "stream": "stdout",
       "text": [
        "168a2528-48ac-11e4-9c1c-90e2ba0993e2.ensemble\r\n",
        "31e868b8-497c-11e4-89fc-90e2ba0993e2.ensemble\r\n",
        "345f0dd6-a9f8-11e4-9a48-90e2ba0993e2.ensemble\r\n",
        "8482c000-a94e-11e4-90e0-90e2ba0993e2.ensemble\r\n",
        "f6ff79e2-a95e-11e4-90e0-90e2ba0993e2.ensemble\r\n"
       ]
      }
     ],
     "prompt_number": 7
    },
    {
     "cell_type": "markdown",
     "metadata": {},
     "source": [
      "______________________________________________"
     ]
    },
    {
     "cell_type": "markdown",
     "metadata": {},
     "source": [
      "Now we will change it to a power law spectrum with the salpeter exponent  $ \\alpha = 2.35 $"
     ]
    },
    {
     "cell_type": "code",
     "collapsed": false,
     "input": [
      "run_ensemble(rc, nstars=2600, nruns=160, kingmodel=True, masstype=1, exponent=-2.35, binarypercent=.1, binarypoplower = 1.0, binarypopupper = 10)"
     ],
     "language": "python",
     "metadata": {},
     "outputs": [
      {
       "output_type": "stream",
       "stream": "stdout",
       "text": [
        "Starting at  2015-02-01 13:02:01.712965\n",
        "Launching 160 runs\n",
        "Storing results in 8e00e316-aa91-11e4-9a48-90e2ba0993e2.ensemble"
       ]
      },
      {
       "output_type": "stream",
       "stream": "stdout",
       "text": [
        "\n",
        "Finished at  2015-02-01 23:11:25.761586\n",
        "Elapsed time:  10:09:24.048621\n"
       ]
      }
     ],
     "prompt_number": 10
    },
    {
     "cell_type": "code",
     "collapsed": false,
     "input": [
      "ls *.ensemble"
     ],
     "language": "python",
     "metadata": {},
     "outputs": [
      {
       "output_type": "stream",
       "stream": "stdout",
       "text": [
        "168a2528-48ac-11e4-9c1c-90e2ba0993e2.ensemble\r\n",
        "31e868b8-497c-11e4-89fc-90e2ba0993e2.ensemble\r\n",
        "345f0dd6-a9f8-11e4-9a48-90e2ba0993e2.ensemble\r\n",
        "8e00e316-aa91-11e4-9a48-90e2ba0993e2.ensemble\r\n",
        "cfcb0892-ab33-11e4-9a48-90e2ba0993e2.ensemble\r\n",
        "f6ff79e2-a95e-11e4-90e0-90e2ba0993e2.ensemble\r\n"
       ]
      }
     ],
     "prompt_number": 14
    },
    {
     "cell_type": "markdown",
     "metadata": {},
     "source": [
      "______________________________________________"
     ]
    },
    {
     "cell_type": "markdown",
     "metadata": {},
     "source": [
      "Now lets build our incrimental clusters ($ \\alpha = 2.15 , 1.95,  1.75 $)"
     ]
    },
    {
     "cell_type": "code",
     "collapsed": false,
     "input": [
      "run_ensemble(rc, nstars=2600, nruns=160, kingmodel=True, masstype=1, exponent=-2.15, binarypercent=.1, binarypoplower = 1.0, binarypopupper = 10)"
     ],
     "language": "python",
     "metadata": {},
     "outputs": [
      {
       "output_type": "stream",
       "stream": "stdout",
       "text": [
        "Starting at  2015-02-02 08:30:22.580202\n",
        "Launching 160 runs\n",
        "Storing results in cfcb0892-ab33-11e4-9a48-90e2ba0993e2.ensemble"
       ]
      },
      {
       "output_type": "stream",
       "stream": "stdout",
       "text": [
        "\n",
        "Finished at  2015-02-02 18:32:54.608493\n",
        "Elapsed time:  10:02:32.028291\n"
       ]
      }
     ],
     "prompt_number": 13
    },
    {
     "cell_type": "code",
     "collapsed": false,
     "input": [
      "run_ensemble(rc, nstars=2600, nruns=160, kingmodel=True, masstype=1, exponent=-1.95, binarypercent=.1, binarypoplower = 1.0, binarypopupper = 10)"
     ],
     "language": "python",
     "metadata": {},
     "outputs": [
      {
       "output_type": "stream",
       "stream": "stdout",
       "text": [
        "Starting at  2015-02-02 19:29:37.746114\n",
        "Launching 160 runs\n",
        "Storing results in fe533ea8-ab8a-11e4-9a48-90e2ba0993e2.ensemble"
       ]
      },
      {
       "output_type": "stream",
       "stream": "stdout",
       "text": [
        "\n",
        "Finished at  2015-02-03 04:56:58.891738\n",
        "Elapsed time:  9:27:21.145624\n"
       ]
      }
     ],
     "prompt_number": 15
    },
    {
     "cell_type": "code",
     "collapsed": false,
     "input": [
      "run_ensemble(rc, nstars=2600, nruns=160, kingmodel=True, masstype=1, exponent=-1.75, binarypercent=.1, binarypoplower = 1.0, binarypopupper = 10)"
     ],
     "language": "python",
     "metadata": {},
     "outputs": [
      {
       "output_type": "stream",
       "stream": "stdout",
       "text": [
        "Starting at  2015-02-03 14:40:07.723762\n",
        "Launching 160 runs\n",
        "Storing results in 4b520882-ac4f-11e4-b168-90e2ba0993e2.ensemble"
       ]
      },
      {
       "output_type": "stream",
       "stream": "stdout",
       "text": [
        "\n",
        "Finished at  2015-02-04 04:22:09.429123\n",
        "Elapsed time:  13:42:01.705361\n"
       ]
      }
     ],
     "prompt_number": 6
    },
    {
     "cell_type": "code",
     "collapsed": false,
     "input": [
      "# binary is held the same for all - excluding quick (no binaries)\n",
      "\n",
      "millerscalo = '345f0dd6-a9f8-11e4-9a48-90e2ba0993e2.ensemble'\n",
      "sal = '8e00e316-aa91-11e4-9a48-90e2ba0993e2.ensemble'\n",
      "pl215 = 'cfcb0892-ab33-11e4-9a48-90e2ba0993e2.ensemble'\n",
      "pl195 = 'fe533ea8-ab8a-11e4-9a48-90e2ba0993e2.ensemble'\n",
      "pl175 = '4b520882-ac4f-11e4-b168-90e2ba0993e2.ensemble'\n",
      "\n",
      "thousking = ' ' # 5 runs of 100 stars, King model\n",
      "thousplum = ' ' # 5 runs of 100 stars, Plummer model\n",
      "\n",
      "quick = ' ' # 5 runs of 20 stars, King model"
     ],
     "language": "python",
     "metadata": {},
     "outputs": [],
     "prompt_number": 7
    },
    {
     "cell_type": "markdown",
     "metadata": {},
     "source": [
      "______________________________________________"
     ]
    },
    {
     "cell_type": "markdown",
     "metadata": {},
     "source": [
      "Lets create some test clusters \n",
      "- 5 run 1000 star, \u03b1=1, king\n",
      "- 5 run 1000 star, \u03b1=1, plummer\n",
      "- 5 by 20 stars, sal, king"
     ]
    },
    {
     "cell_type": "code",
     "collapsed": false,
     "input": [
      "run_ensemble(rc, nstars=1000, nruns=5, kingmodel=True, masstype=1, exponent=-1, binarypercent=.1, binarypoplower = 1.0, binarypopupper = 10)"
     ],
     "language": "python",
     "metadata": {},
     "outputs": [
      {
       "output_type": "stream",
       "stream": "stdout",
       "text": [
        "Starting at  2015-02-04 10:11:48.619278\n",
        "Launching 5 runs\n",
        "Storing results in a9525ffe-ac81-11e4-b168-90e2ba0993e2.ensemble"
       ]
      },
      {
       "output_type": "stream",
       "stream": "stdout",
       "text": [
        "\n",
        "Finished at  2015-02-04 10:22:41.948311\n",
        "Elapsed time:  0:10:53.329033\n"
       ]
      }
     ],
     "prompt_number": 10
    },
    {
     "cell_type": "code",
     "collapsed": false,
     "input": [
      "run_ensemble(rc, nstars=1000, nruns=5, kingmodel=False, masstype=1, exponent=-1, binarypercent=.1, binarypoplower = 1.0, binarypopupper = 10)"
     ],
     "language": "python",
     "metadata": {},
     "outputs": [
      {
       "output_type": "stream",
       "stream": "stdout",
       "text": [
        "Starting at  2015-02-04 10:29:41.422206\n",
        "Launching 5 runs\n",
        "Storing results in e2c38720-ac83-11e4-b168-90e2ba0993e2.ensemble"
       ]
      },
      {
       "output_type": "stream",
       "stream": "stdout",
       "text": [
        "\n",
        "Finished at  2015-02-04 10:38:37.313431\n",
        "Elapsed time:  0:08:55.891225\n"
       ]
      }
     ],
     "prompt_number": 11
    },
    {
     "cell_type": "code",
     "collapsed": false,
     "input": [
      "run_ensemble(rc, nstars=20, nruns=5, kingmodel=True, masstype=1, exponent=-2.35)"
     ],
     "language": "python",
     "metadata": {},
     "outputs": [
      {
       "output_type": "stream",
       "stream": "stdout",
       "text": [
        "Starting at  2015-02-04 10:11:11.773476\n",
        "Launching 5 runs\n",
        "Storing results in 12ce0e1c-ac80-11e4-b168-90e2ba0993e2.ensemble"
       ]
      },
      {
       "output_type": "stream",
       "stream": "stdout",
       "text": [
        "\n",
        "Finished at  2015-02-04 10:11:19.926144\n",
        "Elapsed time:  0:00:08.152668\n"
       ]
      }
     ],
     "prompt_number": 8
    },
    {
     "cell_type": "markdown",
     "metadata": {},
     "source": [
      "___________________________________________________________________________"
     ]
    },
    {
     "cell_type": "markdown",
     "metadata": {},
     "source": [
      "do we have all of them>?"
     ]
    },
    {
     "cell_type": "code",
     "collapsed": false,
     "input": [
      "starlibrary.list_ensembles()"
     ],
     "language": "python",
     "metadata": {},
     "outputs": [
      {
       "output_type": "stream",
       "stream": "stdout",
       "text": [
        "12 ensembles:\n",
        "\n",
        "./fe533ea8-ab8a-11e4-9a48-90e2ba0993e2.ensemble -- King model; 160 runs 2600 stars \n",
        "./345f0dd6-a9f8-11e4-9a48-90e2ba0993e2.ensemble -- King model; 160 runs 2600 stars \n",
        "./31e868b8-497c-11e4-89fc-90e2ba0993e2.ensemble -- King model; 5 runs 1000 stars \n",
        "./f6ff79e2-a95e-11e4-90e0-90e2ba0993e2.ensemble -- King model; 10 runs 100 stars \n",
        "./e2c38720-ac83-11e4-b168-90e2ba0993e2.ensemble -- Plummer model; 5 runs 1000 stars \n",
        "./214477d8-ac80-11e4-b168-90e2ba0993e2.ensemble -- King model; 5 runs 100 stars \n",
        "./12ce0e1c-ac80-11e4-b168-90e2ba0993e2.ensemble -- King model; 5 runs 20 stars \n",
        "./8e00e316-aa91-11e4-9a48-90e2ba0993e2.ensemble -- King model; 160 runs 2600 stars "
       ]
      },
      {
       "output_type": "stream",
       "stream": "stdout",
       "text": [
        "\n",
        "./a9525ffe-ac81-11e4-b168-90e2ba0993e2.ensemble -- King model; 5 runs 1000 stars \n",
        "./4b520882-ac4f-11e4-b168-90e2ba0993e2.ensemble -- King model; 160 runs 2600 stars \n",
        "./168a2528-48ac-11e4-9c1c-90e2ba0993e2.ensemble -- Plummer model; 10 runs 100 stars \n",
        "./cfcb0892-ab33-11e4-9a48-90e2ba0993e2.ensemble -- King model; 160 runs 2600 stars "
       ]
      },
      {
       "output_type": "stream",
       "stream": "stdout",
       "text": [
        "\n"
       ]
      }
     ],
     "prompt_number": 12
    },
    {
     "cell_type": "code",
     "collapsed": false,
     "input": [],
     "language": "python",
     "metadata": {},
     "outputs": []
    }
   ],
   "metadata": {}
  }
 ]
}