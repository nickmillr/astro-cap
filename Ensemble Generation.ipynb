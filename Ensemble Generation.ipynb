{
 "metadata": {
  "name": "",
  "signature": "sha256:50e62064fdd578fa2ccff66b737a48533c49864fdf39d5719c9de3a31db7ef25"
 },
 "nbformat": 3,
 "nbformat_minor": 0,
 "worksheets": [
  {
   "cells": [
    {
     "cell_type": "code",
     "collapsed": false,
     "input": [
      "%pylab inline\n",
      "import uuid\n",
      "import pickle\n",
      "import datetime\n",
      "\n",
      "import starlibrary\n",
      "from IPython.parallel import Client\n",
      "rc = Client(profile=\"Miller\")\n",
      "len(rc.ids)"
     ],
     "language": "python",
     "metadata": {},
     "outputs": [
      {
       "output_type": "stream",
       "stream": "stdout",
       "text": [
        "Populating the interactive namespace from numpy and matplotlib\n"
       ]
      },
      {
       "output_type": "stream",
       "stream": "stderr",
       "text": [
        "/opt/anaconda/lib/python2.7/site-packages/pytz/__init__.py:29: UserWarning: Module argparse was already imported from /opt/anaconda/lib/python2.7/argparse.pyc, but /opt/anaconda/lib/python2.7/site-packages is being added to sys.path\n",
        "  from pkg_resources import resource_stream\n"
       ]
      },
      {
       "metadata": {},
       "output_type": "pyout",
       "prompt_number": 1,
       "text": [
        "80"
       ]
      }
     ],
     "prompt_number": 1
    },
    {
     "cell_type": "code",
     "collapsed": false,
     "input": [
      "lbv = rc.load_balanced_view()"
     ],
     "language": "python",
     "metadata": {},
     "outputs": [],
     "prompt_number": 2
    },
    {
     "cell_type": "code",
     "collapsed": false,
     "input": [
      "def run_ensemble(rc=rc, nruns=10, nstars=100, kingmodel=True, **kwargs):\n",
      "    starttime = datetime.datetime.now()\n",
      "    print \"Starting at \", starttime\n",
      "    lbv = rc.load_balanced_view()\n",
      "    runs = [starlibrary.Run(nstars=nstars, kingmodel=kingmodel, **kwargs)]*nruns\n",
      "\n",
      "    print \"Launching %d runs\" % nruns\n",
      "    results = lbv.map(starlibrary.single_run, runs)\n",
      "    results.wait()\n",
      "    \n",
      "    ensemble_uuid = uuid.uuid1()\n",
      "    ensemble_results_file_name = str(ensemble_uuid)+\".ensemble\"\n",
      "    ensemble_results_file = open(ensemble_results_file_name, \"wb\")\n",
      "\n",
      "    print \"Storing results in %s\" %ensemble_results_file_name\n",
      "    resultlist = results[:]\n",
      "    pickle.dump(resultlist, ensemble_results_file)\n",
      "    \n",
      "    endtime = datetime.datetime.now()\n",
      "    print \"Finished at \", endtime\n",
      "    print \"Elapsed time: \", endtime - starttime "
     ],
     "language": "python",
     "metadata": {},
     "outputs": [],
     "prompt_number": 3
    },
    {
     "cell_type": "markdown",
     "metadata": {},
     "source": [
      "______________________________________________"
     ]
    },
    {
     "cell_type": "heading",
     "level": 4,
     "metadata": {},
     "source": [
      "Generation of 2600star 160run Clusters "
     ]
    },
    {
     "cell_type": "markdown",
     "metadata": {},
     "source": [
      "last run : (2/24/15)"
     ]
    },
    {
     "cell_type": "code",
     "collapsed": false,
     "input": [
      "starlibrary.list_ensembles()"
     ],
     "language": "python",
     "metadata": {},
     "outputs": [
      {
       "output_type": "stream",
       "stream": "stdout",
       "text": [
        "3 ensembles:\n",
        "\n",
        "./b7430e0e-bc64-11e4-b0f7-90e2ba0993e2.ensemble -- King model; 5 runs 20 stars \n",
        "./d63360ee-bc68-11e4-b0f7-90e2ba0993e2.ensemble -- Plummer model; 5 runs 1000 stars \n",
        "./c4c48c4e-bc67-11e4-b0f7-90e2ba0993e2.ensemble -- King model; 5 runs 1000 stars \n"
       ]
      }
     ],
     "prompt_number": 9
    },
    {
     "cell_type": "markdown",
     "metadata": {},
     "source": [
      "______________________________________________"
     ]
    },
    {
     "cell_type": "markdown",
     "metadata": {},
     "source": [
      "The Cluster below should be a 2600 star cluster run 160 times, using mass type 2, meaning millerscalo with $ \\alpha = 0 $. We have a 10 percent 1-10 kT binary population we plan to use for each cluster."
     ]
    },
    {
     "cell_type": "code",
     "collapsed": false,
     "input": [
      "run_ensemble(rc, nstars=2600, nruns=160, kingmodel=True, masstype=2, exponent=0, binarypercent=.1, binarypoplower = 1.0, binarypopupper = 10)"
     ],
     "language": "python",
     "metadata": {},
     "outputs": [
      {
       "output_type": "stream",
       "stream": "stdout",
       "text": [
        "Starting at  2015-02-24 16:06:17.453327\n",
        "Launching 160 runs\n",
        "Storing results in ca92dac0-bcb9-11e4-b0f7-90e2ba0993e2.ensemble"
       ]
      },
      {
       "output_type": "stream",
       "stream": "stdout",
       "text": [
        "\n",
        "Finished at  2015-02-25 01:44:48.182093\n",
        "Elapsed time:  9:38:30.728766\n"
       ]
      }
     ],
     "prompt_number": 10
    },
    {
     "cell_type": "code",
     "collapsed": false,
     "input": [
      "ls *.ensemble"
     ],
     "language": "python",
     "metadata": {},
     "outputs": [
      {
       "output_type": "stream",
       "stream": "stdout",
       "text": [
        "b7430e0e-bc64-11e4-b0f7-90e2ba0993e2.ensemble\r\n",
        "c4c48c4e-bc67-11e4-b0f7-90e2ba0993e2.ensemble\r\n",
        "ca92dac0-bcb9-11e4-b0f7-90e2ba0993e2.ensemble\r\n",
        "d63360ee-bc68-11e4-b0f7-90e2ba0993e2.ensemble\r\n"
       ]
      }
     ],
     "prompt_number": 11
    },
    {
     "cell_type": "markdown",
     "metadata": {},
     "source": [
      "______________________________________________"
     ]
    },
    {
     "cell_type": "markdown",
     "metadata": {},
     "source": [
      "Now we will change it to a power law spectrum with the salpeter exponent  $ \\alpha = 2.35 $"
     ]
    },
    {
     "cell_type": "code",
     "collapsed": false,
     "input": [
      "run_ensemble(rc, nstars=2600, nruns=160, kingmodel=True, masstype=1, exponent=-2.35, binarypercent=.1, binarypoplower = 1.0, binarypopupper = 10)"
     ],
     "language": "python",
     "metadata": {},
     "outputs": [
      {
       "output_type": "stream",
       "stream": "stdout",
       "text": [
        "Starting at  2015-02-25 09:00:20.309920\n",
        "Launching 160 runs\n",
        "Storing results in 62e9bd8e-bd46-11e4-b0f7-90e2ba0993e2.ensemble"
       ]
      },
      {
       "output_type": "stream",
       "stream": "stdout",
       "text": [
        "\n",
        "Finished at  2015-02-25 18:31:13.307485\n",
        "Elapsed time:  9:30:52.997565\n"
       ]
      }
     ],
     "prompt_number": 12
    },
    {
     "cell_type": "code",
     "collapsed": false,
     "input": [
      "ls *.ensemble"
     ],
     "language": "python",
     "metadata": {},
     "outputs": [
      {
       "output_type": "stream",
       "stream": "stdout",
       "text": [
        "62e9bd8e-bd46-11e4-b0f7-90e2ba0993e2.ensemble\r\n",
        "b7430e0e-bc64-11e4-b0f7-90e2ba0993e2.ensemble\r\n",
        "c4c48c4e-bc67-11e4-b0f7-90e2ba0993e2.ensemble\r\n",
        "ca92dac0-bcb9-11e4-b0f7-90e2ba0993e2.ensemble\r\n",
        "d63360ee-bc68-11e4-b0f7-90e2ba0993e2.ensemble\r\n"
       ]
      }
     ],
     "prompt_number": 13
    },
    {
     "cell_type": "markdown",
     "metadata": {},
     "source": [
      "______________________________________________"
     ]
    },
    {
     "cell_type": "markdown",
     "metadata": {},
     "source": [
      "Now lets build our incrimental clusters ($ \\alpha = 2.15 , 1.95,  1.75 $)"
     ]
    },
    {
     "cell_type": "code",
     "collapsed": false,
     "input": [
      "run_ensemble(rc, nstars=2600, nruns=160, kingmodel=True, masstype=1, exponent=-2.15, binarypercent=.1, binarypoplower = 1.0, binarypopupper = 10)"
     ],
     "language": "python",
     "metadata": {},
     "outputs": [
      {
       "output_type": "stream",
       "stream": "stdout",
       "text": [
        "Starting at  2015-02-25 20:09:25.115159\n",
        "Launching 160 runs\n",
        "Storing results in 58316042-bda8-11e4-b0f7-90e2ba0993e2.ensemble"
       ]
      },
      {
       "output_type": "stream",
       "stream": "stdout",
       "text": [
        "\n",
        "Finished at  2015-02-26 06:12:26.001011\n",
        "Elapsed time:  10:03:00.885852\n"
       ]
      }
     ],
     "prompt_number": 14
    },
    {
     "cell_type": "code",
     "collapsed": false,
     "input": [
      "run_ensemble(rc, nstars=2600, nruns=160, kingmodel=True, masstype=1, exponent=-1.95, binarypercent=.1, binarypoplower = 1.0, binarypopupper = 10)"
     ],
     "language": "python",
     "metadata": {},
     "outputs": [
      {
       "output_type": "stream",
       "stream": "stdout",
       "text": [
        "Starting at  2015-02-26 10:44:08.875898\n",
        "Launching 160 runs\n",
        "Storing results in ca8c593a-be0c-11e4-b0f7-90e2ba0993e2.ensemble"
       ]
      },
      {
       "output_type": "stream",
       "stream": "stdout",
       "text": [
        "\n",
        "Finished at  2015-02-26 18:11:27.532121\n",
        "Elapsed time:  7:27:18.656223\n"
       ]
      }
     ],
     "prompt_number": 15
    },
    {
     "cell_type": "code",
     "collapsed": false,
     "input": [
      "run_ensemble(rc, nstars=2600, nruns=160, kingmodel=True, masstype=1, exponent=-1.75, binarypercent=.1, binarypoplower = 1.0, binarypopupper = 10)"
     ],
     "language": "python",
     "metadata": {},
     "outputs": [
      {
       "output_type": "stream",
       "stream": "stdout",
       "text": [
        "Starting at  2015-02-26 20:03:17.087604\n",
        "Launching 160 runs\n",
        "Storing results in 25f0d82c-be72-11e4-b0f7-90e2ba0993e2.ensemble"
       ]
      },
      {
       "output_type": "stream",
       "stream": "stdout",
       "text": [
        "\n",
        "Finished at  2015-02-27 06:17:00.031223\n",
        "Elapsed time:  10:13:42.943619\n"
       ]
      }
     ],
     "prompt_number": 16
    },
    {
     "cell_type": "code",
     "collapsed": false,
     "input": [
      "# binary is held the same for all - excluding quick (no binaries)\n",
      "\n",
      "millerscalo = '345f0dd6-a9f8-11e4-9a48-90e2ba0993e2.ensemble'\n",
      "sal = '8e00e316-aa91-11e4-9a48-90e2ba0993e2.ensemble'\n",
      "pl215 = 'cfcb0892-ab33-11e4-9a48-90e2ba0993e2.ensemble'\n",
      "pl195 = 'fe533ea8-ab8a-11e4-9a48-90e2ba0993e2.ensemble'\n",
      "pl175 = '4b520882-ac4f-11e4-b168-90e2ba0993e2.ensemble'\n",
      "\n",
      "thousking = ' ' # 5 runs of 100 stars, King model\n",
      "thousplum = ' ' # 5 runs of 100 stars, Plummer model\n",
      "\n",
      "quick = ' ' # 5 runs of 20 stars, King model"
     ],
     "language": "python",
     "metadata": {},
     "outputs": [],
     "prompt_number": 7
    },
    {
     "cell_type": "markdown",
     "metadata": {},
     "source": [
      "______________________________________________"
     ]
    },
    {
     "cell_type": "heading",
     "level": 4,
     "metadata": {},
     "source": [
      "Generation of Test Clusters "
     ]
    },
    {
     "cell_type": "markdown",
     "metadata": {},
     "source": [
      "Lets create some test clusters \n",
      "- 5 run 1000 star, \u03b1=1, king\n",
      "- 5 run 1000 star, \u03b1=1, plummer\n",
      "- 5 by 20 stars, sal, king"
     ]
    },
    {
     "cell_type": "code",
     "collapsed": false,
     "input": [
      "run_ensemble(rc, nstars=1000, nruns=5, kingmodel=True, masstype=1, exponent=-1, binarypercent=.1, binarypoplower = 1.0, binarypopupper = 10)"
     ],
     "language": "python",
     "metadata": {},
     "outputs": [
      {
       "output_type": "stream",
       "stream": "stdout",
       "text": [
        "Starting at  2015-02-24 15:49:51.432858\n",
        "Launching 5 runs\n",
        "Storing results in c4c48c4e-bc67-11e4-b0f7-90e2ba0993e2.ensemble"
       ]
      },
      {
       "output_type": "stream",
       "stream": "stdout",
       "text": [
        "\n",
        "Finished at  2015-02-24 15:57:39.684491\n",
        "Elapsed time:  0:07:48.251633\n"
       ]
      }
     ],
     "prompt_number": 7
    },
    {
     "cell_type": "code",
     "collapsed": false,
     "input": [
      "run_ensemble(rc, nstars=1000, nruns=5, kingmodel=False, masstype=1, exponent=-1, binarypercent=.1, binarypoplower = 1.0, binarypopupper = 10)"
     ],
     "language": "python",
     "metadata": {},
     "outputs": [
      {
       "output_type": "stream",
       "stream": "stdout",
       "text": [
        "Starting at  2015-02-24 15:57:43.350461\n",
        "Launching 5 runs\n",
        "Storing results in d63360ee-bc68-11e4-b0f7-90e2ba0993e2.ensemble"
       ]
      },
      {
       "output_type": "stream",
       "stream": "stdout",
       "text": [
        "\n",
        "Finished at  2015-02-24 16:05:18.428868\n",
        "Elapsed time:  0:07:35.078407\n"
       ]
      }
     ],
     "prompt_number": 8
    },
    {
     "cell_type": "code",
     "collapsed": false,
     "input": [
      "run_ensemble(rc, nstars=20, nruns=5, kingmodel=True, masstype=1, exponent=-2.35)"
     ],
     "language": "python",
     "metadata": {},
     "outputs": [
      {
       "output_type": "stream",
       "stream": "stdout",
       "text": [
        "Starting at  2015-02-24 15:35:41.569968\n",
        "Launching 5 runs\n",
        "Storing results in b7430e0e-bc64-11e4-b0f7-90e2ba0993e2.ensemble"
       ]
      },
      {
       "output_type": "stream",
       "stream": "stdout",
       "text": [
        "\n",
        "Finished at  2015-02-24 15:35:48.535296\n",
        "Elapsed time:  0:00:06.965328\n"
       ]
      }
     ],
     "prompt_number": 4
    },
    {
     "cell_type": "markdown",
     "metadata": {},
     "source": [
      "___________________________________________________________________________"
     ]
    },
    {
     "cell_type": "markdown",
     "metadata": {},
     "source": [
      "do we have all of them>?"
     ]
    },
    {
     "cell_type": "code",
     "collapsed": false,
     "input": [
      "starlibrary.list_ensembles()"
     ],
     "language": "python",
     "metadata": {},
     "outputs": [
      {
       "output_type": "stream",
       "stream": "stdout",
       "text": [
        "1 ensembles:\n",
        "\n",
        "./b7430e0e-bc64-11e4-b0f7-90e2ba0993e2.ensemble -- King model; 5 runs 20 stars \n"
       ]
      }
     ],
     "prompt_number": 6
    }
   ],
   "metadata": {}
  }
 ]
}