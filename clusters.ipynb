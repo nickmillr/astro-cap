{
 "metadata": {
  "name": "",
  "signature": "sha256:0f54178efea8b9034c8a202cbd69f668dab51a7fa7b4a9bf50d45b8f9b66a7e6"
 },
 "nbformat": 3,
 "nbformat_minor": 0,
 "worksheets": [
  {
   "cells": [
    {
     "cell_type": "code",
     "collapsed": false,
     "input": [
      "import starlibrary\n",
      "import glob\n",
      "import pickle "
     ],
     "language": "python",
     "metadata": {},
     "outputs": [
      {
       "output_type": "stream",
       "stream": "stderr",
       "text": [
        "/opt/anaconda/lib/python2.7/site-packages/pytz/__init__.py:29: UserWarning: Module argparse was already imported from /opt/anaconda/lib/python2.7/argparse.pyc, but /opt/anaconda/lib/python2.7/site-packages is being added to sys.path\n",
        "  from pkg_resources import resource_stream\n"
       ]
      }
     ],
     "prompt_number": 1
    },
    {
     "cell_type": "code",
     "collapsed": false,
     "input": [
      "millerscalo = '345f0dd6-a9f8-11e4-9a48-90e2ba0993e2.ensemble'\n",
      "sal = '8e00e316-aa91-11e4-9a48-90e2ba0993e2.ensemble'\n",
      "pl215 = 'cfcb0892-ab33-11e4-9a48-90e2ba0993e2.ensemble'\n",
      "pl195 = 'fe533ea8-ab8a-11e4-9a48-90e2ba0993e2.ensemble'\n",
      "pl175 = '4b520882-ac4f-11e4-b168-90e2ba0993e2.ensemble'\n",
      "thousking = 'a9525ffe-ac81-11e4-b168-90e2ba0993e2.ensemble' \n",
      "thousplum = 'e2c38720-ac83-11e4-b168-90e2ba0993e2.ensemble' \n",
      "quick = '12ce0e1c-ac80-11e4-b168-90e2ba0993e2.ensemble'"
     ],
     "language": "python",
     "metadata": {},
     "outputs": [],
     "prompt_number": 2
    },
    {
     "cell_type": "code",
     "collapsed": false,
     "input": [
      "def listclusters():\n",
      "    print 'millerscalo \\nsal \\npl215 \\npl195 \\npl175 \\nthousking \\nthousplum \\nquick' "
     ],
     "language": "python",
     "metadata": {},
     "outputs": [],
     "prompt_number": 3
    },
    {
     "cell_type": "code",
     "collapsed": false,
     "input": [
      "def clusterdetails(cluster):\n",
      "    ensf = \"./\" + cluster\n",
      "    ensfile = open(ensf, 'rb')\n",
      "    runslist = pickle.load(ensfile)\n",
      "    nruns = len(runslist)\n",
      "    nstars = runslist[0].nstars\n",
      "    mf = runslist[0].exponent\n",
      "    binary = runslist[0].binarypercent\n",
      "    if runslist[0].kingmodel:\n",
      "        model = \"King\"\n",
      "    else:\n",
      "        model = \"Plummer\"\n",
      "    print \"%s -- %s model; %d runs %d stars; mass fuction alpha = %0.2f; %0.1f binary fraction\" %(ensf, model, nruns, nstars, mf, binary)\n",
      "\n",
      "    ensfile.close()"
     ],
     "language": "python",
     "metadata": {},
     "outputs": [],
     "prompt_number": 26
    },
    {
     "cell_type": "code",
     "collapsed": false,
     "input": [
      "def returndetail(cluster, detail):\n",
      "    ensf = \"./\" + cluster\n",
      "    ensfile = open(ensf, 'rb')\n",
      "    runslist = pickle.load(ensfile)\n",
      "    if detail == 'runs':\n",
      "        nruns = len(runslist)\n",
      "        ensfile.close()\n",
      "        return nruns\n",
      "    elif detail == 'stars':\n",
      "        nstars = runslist[0].nstars\n",
      "        ensfile.close()\n",
      "        return nstars\n",
      "    elif detail == 'mf':\n",
      "        mf = runslist[0].exponent\n",
      "        ensfile.close()\n",
      "        return mf\n",
      "    elif detail == 'binary':\n",
      "        binary = runslist[0].binarypercent\n",
      "        ensfile.close()\n",
      "        return binary\n",
      "    elif detail == 'time':\n",
      "        time = runslist[0].runlength\n",
      "        ensfile.close()\n",
      "        return time"
     ],
     "language": "python",
     "metadata": {},
     "outputs": [],
     "prompt_number": 1
    },
    {
     "cell_type": "code",
     "collapsed": false,
     "input": [],
     "language": "python",
     "metadata": {},
     "outputs": []
    }
   ],
   "metadata": {}
  }
 ]
}