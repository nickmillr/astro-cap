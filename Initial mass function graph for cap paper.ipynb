{
 "metadata": {
  "name": "",
  "signature": "sha256:ecc336daed4dc69b8973fd9599a7af0c59507b68eb9a5c813e9136492498a49b"
 },
 "nbformat": 3,
 "nbformat_minor": 0,
 "worksheets": [
  {
   "cells": [
    {
     "cell_type": "code",
     "collapsed": false,
     "input": [
      "from IPython.display import Latex\n",
      "Latex(r\"\"\"\\begin{eqnarray}\n",
      "\\xi(M)=cM^{-\\alpha}\n",
      "\\end{eqnarray}\"\"\") "
     ],
     "language": "python",
     "metadata": {},
     "outputs": [
      {
       "latex": [
        "\\begin{eqnarray}\n",
        "\\xi(M)=cM^{-\\alpha}\n",
        "\\end{eqnarray}"
       ],
       "metadata": {},
       "output_type": "pyout",
       "prompt_number": 23,
       "text": [
        "<IPython.core.display.Latex at 0x7fe70d594e10>"
       ]
      }
     ],
     "prompt_number": 23
    },
    {
     "cell_type": "markdown",
     "metadata": {},
     "source": [
      "The IMF specifies the fractional distribution in mass of a newly formed stellar system. \n",
      "It is often assumed to have a simple power law\n",
      "\u03be(M) = c M\uff0d\u03b1\n",
      "In general, \u03be(M) extends from a lower to an\n",
      "upper cutoff, e.g., from 0.1 to 125 solar masses.\n",
      "Commonly used IMFs are those of Salpeter\n",
      "(1955), Scalo (1986), and Miller and Scalo\n",
      "(1979)."
     ]
    },
    {
     "cell_type": "code",
     "collapsed": false,
     "input": [
      "import numpy as np\n",
      "import matplotlib\n",
      "import matplotlib.pyplot as plt\n",
      "%matplotlib inline\n",
      "\n",
      "M1=0.1\n",
      "M2=125.0\n",
      "c=3e+8\n",
      "\n",
      "xdata = np.linspace(M1,M2,50)\n",
      "alpha=2.35,\n",
      "ydata= np.asarray(xdata)**(-(1+x))\n",
      "#ydata = [c*xdata**(-(1+x)) for x in range(1,10)]\n",
      "#plt.plot(xdata, np.log(ydata))\n",
      "plt.loglog(xdata,ydata)\n",
      "plt.show()"
     ],
     "language": "python",
     "metadata": {},
     "outputs": [
      {
       "metadata": {},
       "output_type": "display_data",
       "png": "[encoded data removed]",
       "text": [
        "<matplotlib.figure.Figure at 0x7fe70cf9f550>"
       ]
      }
     ],
     "prompt_number": 38
    },
    {
     "cell_type": "code",
     "collapsed": false,
     "input": [
      "np.log(ydata)"
     ],
     "language": "python",
     "metadata": {},
     "outputs": [
      {
       "metadata": {},
       "output_type": "pyout",
       "prompt_number": 37,
       "text": [
        "array([ 24.930368  ,  17.22998294,  15.64586774,  14.70814328,\n",
        "        14.03968631,  13.51986832,  13.09446384,  12.73439159,\n",
        "        12.42223053,  12.14671496,  11.9001379 ,  11.67699397,\n",
        "        11.47321329,  11.28570206,  11.11205342,  10.950358  ,\n",
        "        10.79907565,  10.65694593,  10.52292427,  10.3961353 ,\n",
        "        10.27583819,  10.16140039,  10.05227754,   9.94799779,\n",
        "         9.84814943,   9.75237115,   9.6603441 ,   9.57178546,\n",
        "         9.48644327,   9.40409206,   9.32452924,   9.24757216,\n",
        "         9.17305554,   9.10082934,   9.03075695,   8.96271363,\n",
        "         8.89658515,   8.83226671,   8.76966183,   8.70868158,\n",
        "         8.64924377,   8.59127229,   8.53469654,   8.47945087,\n",
        "         8.42547418,   8.37270949,   8.32110356,   8.27060659,\n",
        "         8.22117191,   8.17275575])"
       ]
      }
     ],
     "prompt_number": 37
    },
    {
     "cell_type": "code",
     "collapsed": false,
     "input": [],
     "language": "python",
     "metadata": {},
     "outputs": []
    }
   ],
   "metadata": {}
  }
 ]
}