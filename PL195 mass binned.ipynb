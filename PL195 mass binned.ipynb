{
 "metadata": {
  "name": "",
  "signature": "sha256:ea75d406793ee682c6619afb21ba529ed180e4c45b639968c0dc5562af9b6622"
 },
 "nbformat": 3,
 "nbformat_minor": 0,
 "worksheets": [
  {
   "cells": [
    {
     "cell_type": "code",
     "collapsed": false,
     "input": [
      "import starlibrary\n",
      "import matplotlib\n",
      "import pylab as P\n",
      "import matplotlib.pyplot as plt\n",
      "%matplotlib inline\n",
      "import pickle\n",
      "%pylab inline\n",
      "import pandas as pd\n",
      "import uuid\n",
      "import glob\n",
      "import time\n",
      "import datetime\n",
      "\n",
      "basedir = '/home/nicholas/notebooks/'\n",
      "clusters = {'millerscalo': '345f0dd6-a9f8-11e4-9a48-90e2ba0993e2.ensemble',\n",
      "            'sal': '8e00e316-aa91-11e4-9a48-90e2ba0993e2.ensemble',\n",
      "            'pl215': 'cfcb0892-ab33-11e4-9a48-90e2ba0993e2.ensemble',\n",
      "            'pl195': 'fe533ea8-ab8a-11e4-9a48-90e2ba0993e2.ensemble',\n",
      "            'pl175': '4b520882-ac4f-11e4-b168-90e2ba0993e2.ensemble',\n",
      "            'thousking': 'a9525ffe-ac81-11e4-b168-90e2ba0993e2.ensemble',\n",
      "            'thousplum': 'e2c38720-ac83-11e4-b168-90e2ba0993e2.ensemble',\n",
      "            'quick':'12ce0e1c-ac80-11e4-b168-90e2ba0993e2.ensemble'}\n",
      "\n",
      "def clusterdetails(cluster):\n",
      "    ensfile = open(basedir + cluster, 'rb')\n",
      "    runslist = pickle.load(ensfile)\n",
      "    nruns = len(runslist)\n",
      "    nstars = runslist[0].nstars\n",
      "    if runslist[0].kingmodel:\n",
      "        model = \"King\"\n",
      "    else:\n",
      "        model = \"Plummer\"\n",
      "    print \"%s -- %s model; %d runs %d stars \" %(cluster, model, nruns, nstars)\n",
      "    ensfile.close()\n",
      "    \n",
      "\n",
      "def make_df(cluster,run=0,time=0):\n",
      "    whichrun = run\n",
      "    timelabel = time\n",
      "    \n",
      "    ensfile = open(basedir + cluster, 'rb')\n",
      "    runslist = pickle.load(ensfile)\n",
      "\n",
      "    xmlname = basedir + \".warehouse/%s.%d.xml\" %(str(runslist[whichrun].uuid),\n",
      "                                   timelabel)\n",
      "    allframes = glob.glob(basedir + \".warehouse/%s.*.xml\" % (str(runslist[whichrun].uuid)))\n",
      "    print len(allframes), \" frames\"\n",
      "    \n",
      "    timezero, thetime, nstars = starlibrary.process_frame(xmlname)\n",
      "    return timezero.transpose()\n",
      "\n",
      "def binnedsingle(cluster, whichrun):\n",
      "    ensfile = open(basedir + cluster, 'rb')\n",
      "    runslist = pickle.load(ensfile)\n",
      "\n",
      "    allframes = glob.glob(basedir + \".warehouse/%s.*.xml\" % (str(runslist[whichrun].uuid)))\n",
      "\n",
      "    aggregated = pd.DataFrame()\n",
      "    for timelabel in xrange(len(allframes)):\n",
      "        xmlname = basedir + \".warehouse/%s.%d.xml\" %(str(runslist[whichrun].uuid),\n",
      "                                   timelabel)\n",
      "\n",
      "    \n",
      "        timezero, thetime, nstars = starlibrary.process_frame(xmlname)\n",
      "        msdf = timezero.transpose()\n",
      "        msdf['massbin'] = pd.cut(msdf['m'], 11)\n",
      "        grouped = msdf.groupby('massbin')\n",
      "        grouped.aggregate(np.mean)\n",
      "    \n",
      "    \n",
      "        aggregated[timelabel] = grouped.aggregate(np.mean)['radius']\n",
      "    \n",
      "    return aggregated.transpose()\n",
      "\n",
      "\n",
      "print clusterdetails(clusters['pl195'])\n",
      "\n",
      "t1 = time.time()\n",
      "agged = binnedsingle(clusters['pl195'], 0)\n",
      "t2 = time.time()\n",
      "print t2-t1"
     ],
     "language": "python",
     "metadata": {},
     "outputs": [
      {
       "output_type": "stream",
       "stream": "stdout",
       "text": [
        "Populating the interactive namespace from numpy and matplotlib\n",
        "fe533ea8-ab8a-11e4-9a48-90e2ba0993e2.ensemble -- King model; 160 runs 2600 stars \n",
        "None\n",
        "140.213576078"
       ]
      },
      {
       "output_type": "stream",
       "stream": "stdout",
       "text": [
        "\n"
       ]
      },
      {
       "output_type": "stream",
       "stream": "stderr",
       "text": [
        "/opt/anaconda/lib/python2.7/site-packages/pytz/__init__.py:29: UserWarning: Module argparse was already imported from /opt/anaconda/lib/python2.7/argparse.pyc, but /opt/anaconda/lib/python2.7/site-packages is being added to sys.path\n",
        "  from pkg_resources import resource_stream\n"
       ]
      }
     ],
     "prompt_number": 1
    },
    {
     "cell_type": "code",
     "collapsed": false,
     "input": [
      "from IPython.parallel import Client\n",
      "rc = Client(profile=\"Miller\")\n",
      "lbv = rc.load_balanced_view()\n",
      "len(rc.ids)\n",
      "\n",
      "runids = [n for n in xrange(160)]\n",
      "\n",
      "def binnedsingle_ms(whichrun):\n",
      "    import pickle\n",
      "    import pandas as pd\n",
      "    import numpy as np\n",
      "    import glob\n",
      "    import starlibrary\n",
      "    \n",
      "    basedir = '/home/nicholas/notebooks/'\n",
      "    # hardcoded for now\n",
      "    cluster = 'fe533ea8-ab8a-11e4-9a48-90e2ba0993e2.ensemble'\n",
      "    ensfile = open(basedir + cluster, 'rb')\n",
      "    runslist = pickle.load(ensfile)\n",
      "\n",
      "    allframes = glob.glob(basedir + \".warehouse/%s.*.xml\" % (str(runslist[whichrun].uuid)))\n",
      "\n",
      "    aggregated = pd.DataFrame()\n",
      "    #return len(allframes)\n",
      "    for timelabel in xrange(len(allframes)):\n",
      "        xmlname = basedir + \".warehouse/%s.%d.xml\" %(str(runslist[whichrun].uuid),\n",
      "                                   timelabel)\n",
      "\n",
      "    \n",
      "        timezero, thetime, nstars = starlibrary.process_frame(xmlname)\n",
      "        msdf = timezero.transpose()\n",
      "        msdf['massbin'] = pd.cut(msdf['m'], 11, labels=[\"0\",\"1\",\"2\",\"3\",\"4\",\"5\",\"6\",\"7\",\"8\",\"9\",\"least\"])#,retbins=True)\n",
      "        grouped = msdf.groupby('massbin')\n",
      "        grouped.aggregate(np.mean)\n",
      "    \n",
      "    \n",
      "        aggregated[timelabel] = grouped.aggregate(np.mean)['radius']\n",
      "    \n",
      "    return pickle.dumps(aggregated.transpose())\n",
      "\n",
      "results = lbv.map_async(binnedsingle_ms, runids)\n",
      "results.wait_interactive()\n",
      "\n",
      "df_concat = pickle.loads(results[0])\n",
      "for r in range(1,160):\n",
      "    df_concat = df_concat.append(pickle.loads(results[r]))\n",
      "by_row_index = df_concat.groupby(df_concat.index)\n",
      "avgdf = by_row_index.mean()"
     ],
     "language": "python",
     "metadata": {},
     "outputs": [
      {
       "output_type": "stream",
       "stream": "stdout",
       "text": [
        " 160/160 tasks finished after  555 s"
       ]
      },
      {
       "output_type": "stream",
       "stream": "stdout",
       "text": [
        "\n",
        "done\n"
       ]
      },
      {
       "ename": "TypeError",
       "evalue": "must be string or buffer, not list",
       "output_type": "pyerr",
       "traceback": [
        "\u001b[1;31m---------------------------------------------------------------------------\u001b[0m\n\u001b[1;31mTypeError\u001b[0m                                 Traceback (most recent call last)",
        "\u001b[1;32m<ipython-input-2-305437bae643>\u001b[0m in \u001b[0;36m<module>\u001b[1;34m()\u001b[0m\n\u001b[0;32m     42\u001b[0m \u001b[0mresults\u001b[0m\u001b[1;33m.\u001b[0m\u001b[0mwait_interactive\u001b[0m\u001b[1;33m(\u001b[0m\u001b[1;33m)\u001b[0m\u001b[1;33m\u001b[0m\u001b[0m\n\u001b[0;32m     43\u001b[0m \u001b[1;33m\u001b[0m\u001b[0m\n\u001b[1;32m---> 44\u001b[1;33m \u001b[0mdf_concat\u001b[0m \u001b[1;33m=\u001b[0m \u001b[0mpickle\u001b[0m\u001b[1;33m.\u001b[0m\u001b[0mloads\u001b[0m\u001b[1;33m(\u001b[0m\u001b[0mresults\u001b[0m\u001b[1;33m[\u001b[0m\u001b[1;36m0\u001b[0m\u001b[1;33m]\u001b[0m\u001b[1;33m)\u001b[0m\u001b[1;33m\u001b[0m\u001b[0m\n\u001b[0m\u001b[0;32m     45\u001b[0m \u001b[1;32mfor\u001b[0m \u001b[0mr\u001b[0m \u001b[1;32min\u001b[0m \u001b[0mrange\u001b[0m\u001b[1;33m(\u001b[0m\u001b[1;36m1\u001b[0m\u001b[1;33m,\u001b[0m\u001b[1;36m160\u001b[0m\u001b[1;33m)\u001b[0m\u001b[1;33m:\u001b[0m\u001b[1;33m\u001b[0m\u001b[0m\n\u001b[0;32m     46\u001b[0m     \u001b[0mdf_concat\u001b[0m \u001b[1;33m=\u001b[0m \u001b[0mdf_concat\u001b[0m\u001b[1;33m.\u001b[0m\u001b[0mappend\u001b[0m\u001b[1;33m(\u001b[0m\u001b[0mpickle\u001b[0m\u001b[1;33m.\u001b[0m\u001b[0mloads\u001b[0m\u001b[1;33m(\u001b[0m\u001b[0mresults\u001b[0m\u001b[1;33m[\u001b[0m\u001b[0mr\u001b[0m\u001b[1;33m]\u001b[0m\u001b[1;33m)\u001b[0m\u001b[1;33m)\u001b[0m\u001b[1;33m\u001b[0m\u001b[0m\n",
        "\u001b[1;32m/opt/anaconda/lib/python2.7/pickle.pyc\u001b[0m in \u001b[0;36mloads\u001b[1;34m(str)\u001b[0m\n\u001b[0;32m   1379\u001b[0m \u001b[1;33m\u001b[0m\u001b[0m\n\u001b[0;32m   1380\u001b[0m \u001b[1;32mdef\u001b[0m \u001b[0mloads\u001b[0m\u001b[1;33m(\u001b[0m\u001b[0mstr\u001b[0m\u001b[1;33m)\u001b[0m\u001b[1;33m:\u001b[0m\u001b[1;33m\u001b[0m\u001b[0m\n\u001b[1;32m-> 1381\u001b[1;33m     \u001b[0mfile\u001b[0m \u001b[1;33m=\u001b[0m \u001b[0mStringIO\u001b[0m\u001b[1;33m(\u001b[0m\u001b[0mstr\u001b[0m\u001b[1;33m)\u001b[0m\u001b[1;33m\u001b[0m\u001b[0m\n\u001b[0m\u001b[0;32m   1382\u001b[0m     \u001b[1;32mreturn\u001b[0m \u001b[0mUnpickler\u001b[0m\u001b[1;33m(\u001b[0m\u001b[0mfile\u001b[0m\u001b[1;33m)\u001b[0m\u001b[1;33m.\u001b[0m\u001b[0mload\u001b[0m\u001b[1;33m(\u001b[0m\u001b[1;33m)\u001b[0m\u001b[1;33m\u001b[0m\u001b[0m\n\u001b[0;32m   1383\u001b[0m \u001b[1;33m\u001b[0m\u001b[0m\n",
        "\u001b[1;31mTypeError\u001b[0m: must be string or buffer, not list"
       ]
      }
     ],
     "prompt_number": 2
    },
    {
     "cell_type": "code",
     "collapsed": false,
     "input": [
      "# Make Plot\n",
      "import matplotlib.pyplot as plt\n",
      "import matplotlib.colors as colors\n",
      "import matplotlib.cm as cmx\n",
      "import numpy as np\n",
      "\n",
      "fig = plt.figure(figsize=(12, 12))\n",
      "ax = fig.add_subplot(111)\n",
      "    \n",
      "NCURVES = 10\n",
      "values = range(NCURVES)\n",
      "\n",
      "jet = cm = plt.get_cmap('jet') \n",
      "cNorm  = colors.Normalize(vmin=0, vmax=9)\n",
      "scalarMap = cmx.ScalarMappable(norm=cNorm, cmap=jet)\n",
      "\n",
      "lines = []\n",
      "for idx in xrange(0,10):\n",
      "    line = avgdf[str(idx)]\n",
      "    colorVal = scalarMap.to_rgba(values[idx])\n",
      "    retLine, = ax.plot(line,\n",
      "                           color=colorVal,\n",
      "                           label=idx,\n",
      "                           linewidth=2)\n",
      "    lines.append(retLine)\n",
      "#added this to get the legend to work\n",
      "handles,labels = ax.get_legend_handles_labels()\n",
      "ax.legend(handles, labels, loc='upper left', title=\"Least 1 - 10 Most Massive\", ncol=2)\n",
      "plt.title(r\"pl195 - Distance by Mass Over Time\",fontsize=20)\n",
      "plt.ylabel(r'avg distance from the center',fontsize=18)\n",
      "plt.xlabel(r'time',fontsize=18)\n",
      "ax.grid()\n",
      "plt.show()\n",
      "#plt.savefig(savename)"
     ],
     "language": "python",
     "metadata": {},
     "outputs": []
    },
    {
     "cell_type": "code",
     "collapsed": false,
     "input": [],
     "language": "python",
     "metadata": {},
     "outputs": []
    }
   ],
   "metadata": {}
  }
 ]
}