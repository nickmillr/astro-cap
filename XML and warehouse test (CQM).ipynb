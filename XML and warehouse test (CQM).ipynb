{
 "metadata": {
  "name": "",
  "signature": "sha256:cc86213c5eaf0b584b5eb644fbfb8e989099e45f5d633db1bd4ef67206f0f81f"
 },
 "nbformat": 3,
 "nbformat_minor": 0,
 "worksheets": [
  {
   "cells": [
    {
     "cell_type": "code",
     "collapsed": false,
     "input": [
      "%pylab inline\n",
      "import uuid\n",
      "import pickle\n",
      "import datetime\n",
      "\n",
      "import starlab"
     ],
     "language": "python",
     "metadata": {},
     "outputs": [
      {
       "output_type": "stream",
       "stream": "stdout",
       "text": [
        "Populating the interactive namespace from numpy and matplotlib\n"
       ]
      }
     ],
     "prompt_number": 34
    },
    {
     "cell_type": "code",
     "collapsed": false,
     "input": [
      "!ls -l *.ensemble"
     ],
     "language": "python",
     "metadata": {},
     "outputs": [
      {
       "output_type": "stream",
       "stream": "stdout",
       "text": [
        "-rw-rw-r-- 1 nicholas nicholas 44470 Feb 27 06:17 25f0d82c-be72-11e4-b0f7-90e2ba0993e2.ensemble\r\n",
        "-rw-rw-r-- 1 nicholas nicholas 44454 Feb 26 06:12 58316042-bda8-11e4-b0f7-90e2ba0993e2.ensemble\r\n",
        "-rw-rw-r-- 1 nicholas nicholas 44304 Feb 25 18:31 62e9bd8e-bd46-11e4-b0f7-90e2ba0993e2.ensemble\r\n",
        "-rw-rw-r-- 1 nicholas nicholas  1628 Feb 24 15:35 b7430e0e-bc64-11e4-b0f7-90e2ba0993e2.ensemble\r\n",
        "-rw-rw-r-- 1 nicholas nicholas  1622 Feb 24 15:57 c4c48c4e-bc67-11e4-b0f7-90e2ba0993e2.ensemble\r\n",
        "-rw-rw-r-- 1 nicholas nicholas 44469 Feb 26 18:11 ca8c593a-be0c-11e4-b0f7-90e2ba0993e2.ensemble\r\n",
        "-rw-rw-r-- 1 nicholas nicholas 43820 Feb 25 01:44 ca92dac0-bcb9-11e4-b0f7-90e2ba0993e2.ensemble\r\n",
        "-rw-rw-r-- 1 nicholas nicholas  1619 Feb 24 16:05 d63360ee-bc68-11e4-b0f7-90e2ba0993e2.ensemble\r\n"
       ]
      }
     ],
     "prompt_number": 35
    },
    {
     "cell_type": "code",
     "collapsed": false,
     "input": [
      "ensfile = open('ca92dac0-bcb9-11e4-b0f7-90e2ba0993e2.ensemble', 'rb')\n",
      "runslist = pickle.load(ensfile)"
     ],
     "language": "python",
     "metadata": {},
     "outputs": [],
     "prompt_number": 36
    },
    {
     "cell_type": "code",
     "collapsed": false,
     "input": [
      "runslist[0].uuid"
     ],
     "language": "python",
     "metadata": {},
     "outputs": [
      {
       "metadata": {},
       "output_type": "pyout",
       "prompt_number": 37,
       "text": [
        "UUID('6967d850-bc86-11e4-b3a1-0030489e87d6')"
       ]
      }
     ],
     "prompt_number": 37
    },
    {
     "cell_type": "code",
     "collapsed": false,
     "input": [
      "basename = \".warehouse/%s\" % str(runslist[0].uuid)\n",
      "basename"
     ],
     "language": "python",
     "metadata": {},
     "outputs": [
      {
       "metadata": {},
       "output_type": "pyout",
       "prompt_number": 38,
       "text": [
        "'.warehouse/6967d850-bc86-11e4-b3a1-0030489e87d6'"
       ]
      }
     ],
     "prompt_number": 38
    },
    {
     "cell_type": "code",
     "collapsed": false,
     "input": [
      "xmlname = basename + \".0.xml\""
     ],
     "language": "python",
     "metadata": {},
     "outputs": [],
     "prompt_number": 39
    },
    {
     "cell_type": "code",
     "collapsed": false,
     "input": [
      "!head .warehouse/6967d850-bc86-11e4-b3a1-0030489e87d6.0.xml"
     ],
     "language": "python",
     "metadata": {},
     "outputs": [
      {
       "output_type": "stream",
       "stream": "stdout",
       "text": [
        "<?xml version=\"1.0\" encoding=\"ISO-8859-1\"?><Particle>\r\n",
        "<value name=\"root\" />\r\n",
        "<value N=\"2600\" />\r\n",
        "<Log>\r\n",
        " ===>  Tue Feb 24 16:04:25 2015\r\n",
        "       Starlab 4.4.4 (user nicholas) : makeking -n 2600 -w 1.5 -s 5150251394 -i\r\n",
        "<value random_number_generator_seed=\"855284098\" />\r\n",
        "         King model, w0 = 1.50, Rt/Rc = 2.578, Rh/Rc = 0.823, Mc/M = 0.654\r\n",
        "<value initial_mass=\"1\" />\r\n",
        "<value initial_rtidal_over_rvirial=\"2.67466\" />\r\n"
       ]
      }
     ],
     "prompt_number": 40
    },
    {
     "cell_type": "code",
     "collapsed": false,
     "input": [
      "reload(starlibrary)"
     ],
     "language": "python",
     "metadata": {},
     "outputs": [
      {
       "metadata": {},
       "output_type": "pyout",
       "prompt_number": 41,
       "text": [
        "<module 'starlibrary' from 'starlibrary.pyc'>"
       ]
      }
     ],
     "prompt_number": 41
    },
    {
     "cell_type": "code",
     "collapsed": false,
     "input": [
      "dataframe, time, nparticles, kingseed = starlibrary.process_frame(xmlname)"
     ],
     "language": "python",
     "metadata": {},
     "outputs": [],
     "prompt_number": 42
    },
    {
     "cell_type": "code",
     "collapsed": false,
     "input": [
      "kingseed"
     ],
     "language": "python",
     "metadata": {},
     "outputs": [
      {
       "metadata": {},
       "output_type": "pyout",
       "prompt_number": 43,
       "text": [
        "855284098"
       ]
      }
     ],
     "prompt_number": 43
    },
    {
     "cell_type": "code",
     "collapsed": false,
     "input": [
      "for idx, run in enumerate(runslist):\n",
      "    xmlname = \".warehouse/%s.0.xml\" % str(run.uuid)\n",
      "    dataframe, time, nparticles, kingseed = starlibrary.process_frame(xmlname)\n",
      "    print idx, kingseed"
     ],
     "language": "python",
     "metadata": {},
     "outputs": [
      {
       "output_type": "stream",
       "stream": "stdout",
       "text": [
        "0 855284098\n",
        "1"
       ]
      },
      {
       "output_type": "stream",
       "stream": "stdout",
       "text": [
        " 855284098\n",
        "2"
       ]
      },
      {
       "output_type": "stream",
       "stream": "stdout",
       "text": [
        " 855284098\n",
        "3"
       ]
      },
      {
       "output_type": "stream",
       "stream": "stdout",
       "text": [
        " 855284098\n",
        "4"
       ]
      },
      {
       "output_type": "stream",
       "stream": "stdout",
       "text": [
        " 855284098\n",
        "5"
       ]
      },
      {
       "output_type": "stream",
       "stream": "stdout",
       "text": [
        " 855284098\n",
        "6"
       ]
      },
      {
       "output_type": "stream",
       "stream": "stdout",
       "text": [
        " 855284098\n",
        "7"
       ]
      },
      {
       "output_type": "stream",
       "stream": "stdout",
       "text": [
        " 855284098\n",
        "8"
       ]
      },
      {
       "output_type": "stream",
       "stream": "stdout",
       "text": [
        " 855284098\n",
        "9"
       ]
      },
      {
       "output_type": "stream",
       "stream": "stdout",
       "text": [
        " 855284098\n",
        "10"
       ]
      },
      {
       "output_type": "stream",
       "stream": "stdout",
       "text": [
        " 855284098\n",
        "11"
       ]
      },
      {
       "output_type": "stream",
       "stream": "stdout",
       "text": [
        " 855284098\n",
        "12"
       ]
      },
      {
       "output_type": "stream",
       "stream": "stdout",
       "text": [
        " 855284098\n",
        "13"
       ]
      },
      {
       "output_type": "stream",
       "stream": "stdout",
       "text": [
        " 855284098\n",
        "14"
       ]
      },
      {
       "output_type": "stream",
       "stream": "stdout",
       "text": [
        " 855284098\n",
        "15"
       ]
      },
      {
       "output_type": "stream",
       "stream": "stdout",
       "text": [
        " 855284098\n",
        "16"
       ]
      },
      {
       "output_type": "stream",
       "stream": "stdout",
       "text": [
        " 855284098\n",
        "17"
       ]
      },
      {
       "output_type": "stream",
       "stream": "stdout",
       "text": [
        " 855284098\n",
        "18"
       ]
      },
      {
       "output_type": "stream",
       "stream": "stdout",
       "text": [
        " 855284098\n",
        "19"
       ]
      },
      {
       "output_type": "stream",
       "stream": "stdout",
       "text": [
        " 855284098\n",
        "20"
       ]
      },
      {
       "output_type": "stream",
       "stream": "stdout",
       "text": [
        " 855284098\n",
        "21"
       ]
      },
      {
       "output_type": "stream",
       "stream": "stdout",
       "text": [
        " 855284098\n",
        "22"
       ]
      },
      {
       "output_type": "stream",
       "stream": "stdout",
       "text": [
        " 855284098\n",
        "23"
       ]
      },
      {
       "output_type": "stream",
       "stream": "stdout",
       "text": [
        " 855284098\n",
        "24"
       ]
      },
      {
       "output_type": "stream",
       "stream": "stdout",
       "text": [
        " 855284098\n",
        "25"
       ]
      },
      {
       "output_type": "stream",
       "stream": "stdout",
       "text": [
        " 855284098\n"
       ]
      },
      {
       "ename": "KeyboardInterrupt",
       "evalue": "",
       "output_type": "pyerr",
       "traceback": [
        "\u001b[1;31m---------------------------------------------------------------------------\u001b[0m\n\u001b[1;31mKeyboardInterrupt\u001b[0m                         Traceback (most recent call last)",
        "\u001b[1;32m<ipython-input-44-8260a13b98c0>\u001b[0m in \u001b[0;36m<module>\u001b[1;34m()\u001b[0m\n\u001b[0;32m      1\u001b[0m \u001b[1;32mfor\u001b[0m \u001b[0midx\u001b[0m\u001b[1;33m,\u001b[0m \u001b[0mrun\u001b[0m \u001b[1;32min\u001b[0m \u001b[0menumerate\u001b[0m\u001b[1;33m(\u001b[0m\u001b[0mrunslist\u001b[0m\u001b[1;33m)\u001b[0m\u001b[1;33m:\u001b[0m\u001b[1;33m\u001b[0m\u001b[0m\n\u001b[0;32m      2\u001b[0m     \u001b[0mxmlname\u001b[0m \u001b[1;33m=\u001b[0m \u001b[1;34m\".warehouse/%s.0.xml\"\u001b[0m \u001b[1;33m%\u001b[0m \u001b[0mstr\u001b[0m\u001b[1;33m(\u001b[0m\u001b[0mrun\u001b[0m\u001b[1;33m.\u001b[0m\u001b[0muuid\u001b[0m\u001b[1;33m)\u001b[0m\u001b[1;33m\u001b[0m\u001b[0m\n\u001b[1;32m----> 3\u001b[1;33m     \u001b[0mdataframe\u001b[0m\u001b[1;33m,\u001b[0m \u001b[0mtime\u001b[0m\u001b[1;33m,\u001b[0m \u001b[0mnparticles\u001b[0m\u001b[1;33m,\u001b[0m \u001b[0mkingseed\u001b[0m \u001b[1;33m=\u001b[0m \u001b[0mstarlibrary\u001b[0m\u001b[1;33m.\u001b[0m\u001b[0mprocess_frame\u001b[0m\u001b[1;33m(\u001b[0m\u001b[0mxmlname\u001b[0m\u001b[1;33m)\u001b[0m\u001b[1;33m\u001b[0m\u001b[0m\n\u001b[0m\u001b[0;32m      4\u001b[0m     \u001b[1;32mprint\u001b[0m \u001b[0midx\u001b[0m\u001b[1;33m,\u001b[0m \u001b[0mkingseed\u001b[0m\u001b[1;33m\u001b[0m\u001b[0m\n",
        "\u001b[1;32m/home/nicholas/notebooks/starlibrary.pyc\u001b[0m in \u001b[0;36mprocess_frame\u001b[1;34m(xmlname)\u001b[0m\n\u001b[0;32m    494\u001b[0m     \u001b[0mparticledict\u001b[0m \u001b[1;33m=\u001b[0m \u001b[1;33m{\u001b[0m\u001b[1;33m}\u001b[0m\u001b[1;33m\u001b[0m\u001b[0m\n\u001b[0;32m    495\u001b[0m     \u001b[1;32mfor\u001b[0m \u001b[0mpart\u001b[0m \u001b[1;32min\u001b[0m \u001b[0mframe\u001b[0m\u001b[1;33m.\u001b[0m\u001b[0mxpath\u001b[0m\u001b[1;33m(\u001b[0m\u001b[1;34m'/Particle/Particle'\u001b[0m\u001b[1;33m)\u001b[0m\u001b[1;33m:\u001b[0m\u001b[1;33m\u001b[0m\u001b[0m\n\u001b[1;32m--> 496\u001b[1;33m         \u001b[0msubpartdict\u001b[0m \u001b[1;33m=\u001b[0m \u001b[0mflatten_particle\u001b[0m\u001b[1;33m(\u001b[0m\u001b[0mpart\u001b[0m\u001b[1;33m)\u001b[0m\u001b[1;33m\u001b[0m\u001b[0m\n\u001b[0m\u001b[0;32m    497\u001b[0m         \u001b[0mparticledict\u001b[0m\u001b[1;33m.\u001b[0m\u001b[0mupdate\u001b[0m\u001b[1;33m(\u001b[0m\u001b[0msubpartdict\u001b[0m\u001b[1;33m)\u001b[0m\u001b[1;33m\u001b[0m\u001b[0m\n\u001b[0;32m    498\u001b[0m     \u001b[1;32mfor\u001b[0m \u001b[0mkey\u001b[0m \u001b[1;32min\u001b[0m \u001b[0mparticledict\u001b[0m\u001b[1;33m.\u001b[0m\u001b[0mkeys\u001b[0m\u001b[1;33m(\u001b[0m\u001b[1;33m)\u001b[0m\u001b[1;33m:\u001b[0m\u001b[1;33m\u001b[0m\u001b[0m\n",
        "\u001b[1;32m/home/nicholas/notebooks/starlibrary.pyc\u001b[0m in \u001b[0;36mflatten_particle\u001b[1;34m(part)\u001b[0m\n\u001b[0;32m    654\u001b[0m         \u001b[0mm\u001b[0m \u001b[1;33m=\u001b[0m \u001b[0mfloat\u001b[0m\u001b[1;33m(\u001b[0m\u001b[0mpart\u001b[0m\u001b[1;33m.\u001b[0m\u001b[0mxpath\u001b[0m\u001b[1;33m(\u001b[0m\u001b[1;34m'./Dynamics/value[@ m]/@ m'\u001b[0m\u001b[1;33m)\u001b[0m\u001b[1;33m[\u001b[0m\u001b[1;36m0\u001b[0m\u001b[1;33m]\u001b[0m\u001b[1;33m)\u001b[0m\u001b[1;33m\u001b[0m\u001b[0m\n\u001b[0;32m    655\u001b[0m         \u001b[0mradius\u001b[0m \u001b[1;33m=\u001b[0m \u001b[0mnp\u001b[0m\u001b[1;33m.\u001b[0m\u001b[0msqrt\u001b[0m\u001b[1;33m(\u001b[0m\u001b[0mr\u001b[0m\u001b[1;33m.\u001b[0m\u001b[0mdot\u001b[0m\u001b[1;33m(\u001b[0m\u001b[0mr\u001b[0m\u001b[1;33m)\u001b[0m\u001b[1;33m)\u001b[0m\u001b[1;33m\u001b[0m\u001b[0m\n\u001b[1;32m--> 656\u001b[1;33m         \u001b[0mpot\u001b[0m \u001b[1;33m=\u001b[0m \u001b[0mfloat\u001b[0m\u001b[1;33m(\u001b[0m\u001b[0mpart\u001b[0m\u001b[1;33m.\u001b[0m\u001b[0mxpath\u001b[0m\u001b[1;33m(\u001b[0m\u001b[1;34m'./Dynamics/value[@ pot]/@ pot'\u001b[0m\u001b[1;33m)\u001b[0m\u001b[1;33m[\u001b[0m\u001b[1;36m0\u001b[0m\u001b[1;33m]\u001b[0m\u001b[1;33m)\u001b[0m\u001b[1;33m\u001b[0m\u001b[0m\n\u001b[0m\u001b[0;32m    657\u001b[0m         \u001b[0mpartdict\u001b[0m \u001b[1;33m=\u001b[0m \u001b[1;33m{\u001b[0m\u001b[0mparti\u001b[0m\u001b[1;33m:\u001b[0m \u001b[1;33m{\u001b[0m\u001b[1;34m'x'\u001b[0m\u001b[1;33m:\u001b[0m\u001b[0mr\u001b[0m\u001b[1;33m[\u001b[0m\u001b[1;36m0\u001b[0m\u001b[1;33m]\u001b[0m\u001b[1;33m,\u001b[0m \u001b[1;34m'y'\u001b[0m\u001b[1;33m:\u001b[0m\u001b[0mr\u001b[0m\u001b[1;33m[\u001b[0m\u001b[1;36m1\u001b[0m\u001b[1;33m]\u001b[0m\u001b[1;33m,\u001b[0m \u001b[1;34m'z'\u001b[0m\u001b[1;33m:\u001b[0m\u001b[0mr\u001b[0m\u001b[1;33m[\u001b[0m\u001b[1;36m2\u001b[0m\u001b[1;33m]\u001b[0m\u001b[1;33m,\u001b[0m \u001b[1;34m'm'\u001b[0m\u001b[1;33m:\u001b[0m\u001b[0mm\u001b[0m\u001b[1;33m,\u001b[0m \u001b[1;34m'radius'\u001b[0m\u001b[1;33m:\u001b[0m\u001b[0mradius\u001b[0m\u001b[1;33m}\u001b[0m \u001b[1;33m}\u001b[0m\u001b[1;33m\u001b[0m\u001b[0m\n\u001b[0;32m    658\u001b[0m         \u001b[0mpartdict\u001b[0m\u001b[1;33m[\u001b[0m\u001b[0mparti\u001b[0m\u001b[1;33m]\u001b[0m\u001b[1;33m.\u001b[0m\u001b[0mupdate\u001b[0m\u001b[1;33m(\u001b[0m\u001b[1;33m{\u001b[0m\u001b[1;34m'vx'\u001b[0m\u001b[1;33m:\u001b[0m\u001b[0mv\u001b[0m\u001b[1;33m[\u001b[0m\u001b[1;36m0\u001b[0m\u001b[1;33m]\u001b[0m\u001b[1;33m,\u001b[0m \u001b[1;34m'vy'\u001b[0m\u001b[1;33m:\u001b[0m\u001b[0mv\u001b[0m\u001b[1;33m[\u001b[0m\u001b[1;36m1\u001b[0m\u001b[1;33m]\u001b[0m\u001b[1;33m,\u001b[0m \u001b[1;34m'vz'\u001b[0m\u001b[1;33m:\u001b[0m\u001b[0mv\u001b[0m\u001b[1;33m[\u001b[0m\u001b[1;36m2\u001b[0m\u001b[1;33m]\u001b[0m\u001b[1;33m,\u001b[0m \u001b[1;34m'pot'\u001b[0m\u001b[1;33m:\u001b[0m\u001b[0mpot\u001b[0m\u001b[1;33m}\u001b[0m\u001b[1;33m)\u001b[0m\u001b[1;33m\u001b[0m\u001b[0m\n",
        "\u001b[1;31mKeyboardInterrupt\u001b[0m: "
       ]
      }
     ],
     "prompt_number": 44
    },
    {
     "cell_type": "code",
     "collapsed": false,
     "input": [
      "ensfile = open('a9525ffe-ac81-11e4-b168-90e2ba0993e2.ensemble', 'rb')\n",
      "runslist = pickle.load(ensfile)\n",
      "\n",
      "for idx, run in enumerate(runslist):\n",
      "    xmlname = \".warehouse/%s.0.xml\" % str(run.uuid)\n",
      "    dataframe, time, nparticles, kingseed = starlibrary.process_frame(xmlname)\n",
      "    print idx, kingseed"
     ],
     "language": "python",
     "metadata": {},
     "outputs": [
      {
       "output_type": "stream",
       "stream": "stdout",
       "text": [
        "0 1423062679\n",
        "1"
       ]
      },
      {
       "output_type": "stream",
       "stream": "stdout",
       "text": [
        " 1423062421\n",
        "2"
       ]
      },
      {
       "output_type": "stream",
       "stream": "stdout",
       "text": [
        " 1423062872\n",
        "3"
       ]
      },
      {
       "output_type": "stream",
       "stream": "stdout",
       "text": [
        " 1423062872\n",
        "4"
       ]
      },
      {
       "output_type": "stream",
       "stream": "stdout",
       "text": [
        " 1423062719\n"
       ]
      }
     ],
     "prompt_number": 32
    },
    {
     "cell_type": "code",
     "collapsed": false,
     "input": [
      "ensfile = open('cfcb0892-ab33-11e4-9a48-90e2ba0993e2.ensemble', 'rb')\n",
      "runslist = pickle.load(ensfile)\n",
      "\n",
      "for idx, run in enumerate(runslist):\n",
      "    xmlname = \".warehouse/%s.0.xml\" % str(run.uuid)\n",
      "    dataframe, time, nparticles, kingseed = starlibrary.process_frame(xmlname)\n",
      "    print idx, kingseed"
     ],
     "language": "python",
     "metadata": {},
     "outputs": [
      {
       "output_type": "stream",
       "stream": "stdout",
       "text": [
        "0 1422883735\n",
        "1"
       ]
      },
      {
       "output_type": "stream",
       "stream": "stdout",
       "text": [
        " 1422883985\n",
        "2"
       ]
      },
      {
       "output_type": "stream",
       "stream": "stdout",
       "text": [
        " 1422883985\n",
        "3"
       ]
      },
      {
       "output_type": "stream",
       "stream": "stdout",
       "text": [
        " 1422883735\n",
        "4"
       ]
      },
      {
       "output_type": "stream",
       "stream": "stdout",
       "text": [
        " 1422883985\n",
        "5"
       ]
      },
      {
       "output_type": "stream",
       "stream": "stdout",
       "text": [
        " 1422883735\n",
        "6"
       ]
      },
      {
       "output_type": "stream",
       "stream": "stdout",
       "text": [
        " 1422883958\n",
        "7"
       ]
      },
      {
       "output_type": "stream",
       "stream": "stdout",
       "text": [
        " 1422883958\n",
        "8"
       ]
      },
      {
       "output_type": "stream",
       "stream": "stdout",
       "text": [
        " 1422883830\n",
        "9"
       ]
      },
      {
       "output_type": "stream",
       "stream": "stdout",
       "text": [
        " 1422883830\n",
        "10"
       ]
      },
      {
       "output_type": "stream",
       "stream": "stdout",
       "text": [
        " 1422883830\n",
        "11"
       ]
      },
      {
       "output_type": "stream",
       "stream": "stdout",
       "text": [
        " 1422883655\n",
        "12"
       ]
      },
      {
       "output_type": "stream",
       "stream": "stdout",
       "text": [
        " 1422883655\n",
        "13"
       ]
      },
      {
       "output_type": "stream",
       "stream": "stdout",
       "text": [
        " 1422883655\n",
        "14"
       ]
      },
      {
       "output_type": "stream",
       "stream": "stdout",
       "text": [
        " 1422883655\n",
        "15"
       ]
      },
      {
       "output_type": "stream",
       "stream": "stdout",
       "text": [
        " 1422883535\n",
        "16"
       ]
      },
      {
       "output_type": "stream",
       "stream": "stdout",
       "text": [
        " 1422883535\n",
        "17"
       ]
      },
      {
       "output_type": "stream",
       "stream": "stdout",
       "text": [
        " 1422883832\n",
        "18"
       ]
      },
      {
       "output_type": "stream",
       "stream": "stdout",
       "text": [
        " 1422883832\n",
        "19"
       ]
      },
      {
       "output_type": "stream",
       "stream": "stdout",
       "text": [
        " 1422883535\n",
        "20"
       ]
      },
      {
       "output_type": "stream",
       "stream": "stdout",
       "text": [
        " 1422883707\n",
        "21"
       ]
      },
      {
       "output_type": "stream",
       "stream": "stdout",
       "text": [
        " 1422883707\n",
        "22"
       ]
      },
      {
       "output_type": "stream",
       "stream": "stdout",
       "text": [
        " 1422883535\n",
        "23"
       ]
      },
      {
       "output_type": "stream",
       "stream": "stdout",
       "text": [
        " 1422883707\n",
        "24"
       ]
      },
      {
       "output_type": "stream",
       "stream": "stdout",
       "text": [
        " 1422883707\n",
        "25"
       ]
      },
      {
       "output_type": "stream",
       "stream": "stdout",
       "text": [
        " 1422883832\n",
        "26"
       ]
      },
      {
       "output_type": "stream",
       "stream": "stdout",
       "text": [
        " 1422883793\n",
        "27"
       ]
      },
      {
       "output_type": "stream",
       "stream": "stdout",
       "text": [
        " 1422883793\n",
        "28"
       ]
      },
      {
       "output_type": "stream",
       "stream": "stdout",
       "text": [
        " 1422883793\n",
        "29"
       ]
      },
      {
       "output_type": "stream",
       "stream": "stdout",
       "text": [
        " 1422883904\n",
        "30"
       ]
      },
      {
       "output_type": "stream",
       "stream": "stdout",
       "text": [
        " 1422883904\n",
        "31"
       ]
      },
      {
       "output_type": "stream",
       "stream": "stdout",
       "text": [
        " 1422883958\n",
        "32"
       ]
      },
      {
       "output_type": "stream",
       "stream": "stdout",
       "text": [
        " 1422883830\n",
        "33"
       ]
      },
      {
       "output_type": "stream",
       "stream": "stdout",
       "text": [
        " 1422883958\n",
        "34"
       ]
      },
      {
       "output_type": "stream",
       "stream": "stdout",
       "text": [
        " 1422883830\n",
        "35"
       ]
      },
      {
       "output_type": "stream",
       "stream": "stdout",
       "text": [
        " 1422883655\n",
        "36"
       ]
      },
      {
       "output_type": "stream",
       "stream": "stdout",
       "text": [
        " 1422883904\n",
        "37"
       ]
      },
      {
       "output_type": "stream",
       "stream": "stdout",
       "text": [
        " 1422883655\n",
        "38"
       ]
      },
      {
       "output_type": "stream",
       "stream": "stdout",
       "text": [
        " 1422883958\n",
        "39"
       ]
      },
      {
       "output_type": "stream",
       "stream": "stdout",
       "text": [
        " 1422883655\n",
        "40"
       ]
      },
      {
       "output_type": "stream",
       "stream": "stdout",
       "text": [
        " 1422883535\n",
        "41"
       ]
      },
      {
       "output_type": "stream",
       "stream": "stdout",
       "text": [
        " 1422883904\n",
        "42"
       ]
      },
      {
       "output_type": "stream",
       "stream": "stdout",
       "text": [
        " 1422883535\n",
        "43"
       ]
      },
      {
       "output_type": "stream",
       "stream": "stdout",
       "text": [
        " 1422883832\n",
        "44"
       ]
      },
      {
       "output_type": "stream",
       "stream": "stdout",
       "text": [
        " 1422883830\n",
        "45"
       ]
      },
      {
       "output_type": "stream",
       "stream": "stdout",
       "text": [
        " 1422883985\n",
        "46"
       ]
      },
      {
       "output_type": "stream",
       "stream": "stdout",
       "text": [
        " 1422883985\n",
        "47"
       ]
      },
      {
       "output_type": "stream",
       "stream": "stdout",
       "text": [
        " 1422883985\n",
        "48"
       ]
      },
      {
       "output_type": "stream",
       "stream": "stdout",
       "text": [
        " 1422883985\n",
        "49"
       ]
      },
      {
       "output_type": "stream",
       "stream": "stdout",
       "text": [
        " 1422883735\n",
        "50"
       ]
      },
      {
       "output_type": "stream",
       "stream": "stdout",
       "text": [
        " 1422883707\n",
        "51"
       ]
      },
      {
       "output_type": "stream",
       "stream": "stdout",
       "text": [
        " 1422883707\n",
        "52"
       ]
      },
      {
       "output_type": "stream",
       "stream": "stdout",
       "text": [
        " 1422883830\n",
        "53"
       ]
      },
      {
       "output_type": "stream",
       "stream": "stdout",
       "text": [
        " 1422883735\n",
        "54"
       ]
      },
      {
       "output_type": "stream",
       "stream": "stdout",
       "text": [
        " 1422883958\n",
        "55"
       ]
      },
      {
       "output_type": "stream",
       "stream": "stdout",
       "text": [
        " 1422883655\n",
        "56"
       ]
      },
      {
       "output_type": "stream",
       "stream": "stdout",
       "text": [
        " 1422883794\n",
        "57"
       ]
      },
      {
       "output_type": "stream",
       "stream": "stdout",
       "text": [
        " 1422883793\n",
        "58"
       ]
      },
      {
       "output_type": "stream",
       "stream": "stdout",
       "text": [
        " 1422883535\n",
        "59"
       ]
      },
      {
       "output_type": "stream",
       "stream": "stdout",
       "text": [
        " 1422883735\n",
        "60"
       ]
      },
      {
       "output_type": "stream",
       "stream": "stdout",
       "text": [
        " 1422883735\n",
        "61"
       ]
      },
      {
       "output_type": "stream",
       "stream": "stdout",
       "text": [
        " 1422883535\n",
        "62"
       ]
      },
      {
       "output_type": "stream",
       "stream": "stdout",
       "text": [
        " 1422883832\n",
        "63"
       ]
      },
      {
       "output_type": "stream",
       "stream": "stdout",
       "text": [
        " 1422883904\n",
        "64"
       ]
      },
      {
       "output_type": "stream",
       "stream": "stdout",
       "text": [
        " 1422883794\n",
        "65"
       ]
      },
      {
       "output_type": "stream",
       "stream": "stdout",
       "text": [
        " 1422883832\n",
        "66"
       ]
      },
      {
       "output_type": "stream",
       "stream": "stdout",
       "text": [
        " 1422883904\n",
        "67"
       ]
      },
      {
       "output_type": "stream",
       "stream": "stdout",
       "text": [
        " 1422883735\n",
        "68"
       ]
      },
      {
       "output_type": "stream",
       "stream": "stdout",
       "text": [
        " 1422883958\n",
        "69"
       ]
      },
      {
       "output_type": "stream",
       "stream": "stdout",
       "text": [
        " 1422883904\n",
        "70"
       ]
      },
      {
       "output_type": "stream",
       "stream": "stdout",
       "text": [
        " 1422883793\n",
        "71"
       ]
      },
      {
       "output_type": "stream",
       "stream": "stdout",
       "text": [
        " 1422883707\n",
        "72"
       ]
      },
      {
       "output_type": "stream",
       "stream": "stdout",
       "text": [
        " 1422883707\n",
        "73"
       ]
      },
      {
       "output_type": "stream",
       "stream": "stdout",
       "text": [
        " 1422883830\n",
        "74"
       ]
      },
      {
       "output_type": "stream",
       "stream": "stdout",
       "text": [
        " 1422883904\n",
        "75"
       ]
      },
      {
       "output_type": "stream",
       "stream": "stdout",
       "text": [
        " 1422883832\n",
        "76"
       ]
      },
      {
       "output_type": "stream",
       "stream": "stdout",
       "text": [
        " 1422883832\n",
        "77"
       ]
      },
      {
       "output_type": "stream",
       "stream": "stdout",
       "text": [
        " 1422883794\n",
        "78"
       ]
      },
      {
       "output_type": "stream",
       "stream": "stdout",
       "text": [
        " 1422883985\n",
        "79"
       ]
      },
      {
       "output_type": "stream",
       "stream": "stdout",
       "text": [
        " 1422883958\n",
        "80"
       ]
      },
      {
       "output_type": "stream",
       "stream": "stdout",
       "text": [
        " 1422894752\n",
        "81"
       ]
      },
      {
       "output_type": "stream",
       "stream": "stdout",
       "text": [
        " 1422894771\n",
        "82"
       ]
      },
      {
       "output_type": "stream",
       "stream": "stdout",
       "text": [
        " 1422895008\n",
        "83"
       ]
      },
      {
       "output_type": "stream",
       "stream": "stdout",
       "text": [
        " 1422895115\n",
        "84"
       ]
      },
      {
       "output_type": "stream",
       "stream": "stdout",
       "text": [
        " 1422895166\n",
        "85"
       ]
      },
      {
       "output_type": "stream",
       "stream": "stdout",
       "text": [
        " 1422894995\n",
        "86"
       ]
      },
      {
       "output_type": "stream",
       "stream": "stdout",
       "text": [
        " 1422895020\n",
        "87"
       ]
      },
      {
       "output_type": "stream",
       "stream": "stdout",
       "text": [
        " 1422895264\n",
        "88"
       ]
      },
      {
       "output_type": "stream",
       "stream": "stdout",
       "text": [
        " 1422895682\n",
        "89"
       ]
      },
      {
       "output_type": "stream",
       "stream": "stdout",
       "text": [
        " 1422896171\n",
        "90"
       ]
      },
      {
       "output_type": "stream",
       "stream": "stdout",
       "text": [
        " 1422896668\n",
        "91"
       ]
      },
      {
       "output_type": "stream",
       "stream": "stdout",
       "text": [
        " 1422896728\n",
        "92"
       ]
      },
      {
       "output_type": "stream",
       "stream": "stdout",
       "text": [
        " 1422897036\n",
        "93"
       ]
      },
      {
       "output_type": "stream",
       "stream": "stdout",
       "text": [
        " 1422896890\n",
        "94"
       ]
      },
      {
       "output_type": "stream",
       "stream": "stdout",
       "text": [
        " 1422896892\n",
        "95"
       ]
      },
      {
       "output_type": "stream",
       "stream": "stdout",
       "text": [
        " 1422897183\n",
        "96"
       ]
      },
      {
       "output_type": "stream",
       "stream": "stdout",
       "text": [
        " 1422897571\n",
        "97"
       ]
      },
      {
       "output_type": "stream",
       "stream": "stdout",
       "text": [
        " 1422897608\n",
        "98"
       ]
      },
      {
       "output_type": "stream",
       "stream": "stdout",
       "text": [
        " 1422897787\n",
        "99"
       ]
      },
      {
       "output_type": "stream",
       "stream": "stdout",
       "text": [
        " 1422897460\n",
        "100"
       ]
      },
      {
       "output_type": "stream",
       "stream": "stdout",
       "text": [
        " 1422897889\n",
        "101"
       ]
      },
      {
       "output_type": "stream",
       "stream": "stdout",
       "text": [
        " 1422898019\n",
        "102"
       ]
      },
      {
       "output_type": "stream",
       "stream": "stdout",
       "text": [
        " 1422898016\n",
        "103"
       ]
      },
      {
       "output_type": "stream",
       "stream": "stdout",
       "text": [
        " 1422898043\n",
        "104"
       ]
      },
      {
       "output_type": "stream",
       "stream": "stdout",
       "text": [
        " 1422898125\n",
        "105"
       ]
      },
      {
       "output_type": "stream",
       "stream": "stdout",
       "text": [
        " 1422898039\n",
        "106"
       ]
      },
      {
       "output_type": "stream",
       "stream": "stdout",
       "text": [
        " 1422898281\n",
        "107"
       ]
      },
      {
       "output_type": "stream",
       "stream": "stdout",
       "text": [
        " 1422898450\n",
        "108"
       ]
      },
      {
       "output_type": "stream",
       "stream": "stdout",
       "text": [
        " 1422898451\n",
        "109"
       ]
      },
      {
       "output_type": "stream",
       "stream": "stdout",
       "text": [
        " 1422898452\n",
        "110"
       ]
      },
      {
       "output_type": "stream",
       "stream": "stdout",
       "text": [
        " 1422898618\n",
        "111"
       ]
      },
      {
       "output_type": "stream",
       "stream": "stdout",
       "text": [
        " 1422898878\n",
        "112"
       ]
      },
      {
       "output_type": "stream",
       "stream": "stdout",
       "text": [
        " 1422899091\n",
        "113"
       ]
      },
      {
       "output_type": "stream",
       "stream": "stdout",
       "text": [
        " 1422898976\n",
        "114"
       ]
      },
      {
       "output_type": "stream",
       "stream": "stdout",
       "text": [
        " 1422899806\n",
        "115"
       ]
      },
      {
       "output_type": "stream",
       "stream": "stdout",
       "text": [
        " 1422900677\n",
        "116"
       ]
      },
      {
       "output_type": "stream",
       "stream": "stdout",
       "text": [
        " 1422900951\n",
        "117"
       ]
      },
      {
       "output_type": "stream",
       "stream": "stdout",
       "text": [
        " 1422900546\n",
        "118"
       ]
      },
      {
       "output_type": "stream",
       "stream": "stdout",
       "text": [
        " 1422901849\n",
        "119"
       ]
      },
      {
       "output_type": "stream",
       "stream": "stdout",
       "text": [
        " 1422902470\n",
        "120"
       ]
      },
      {
       "output_type": "stream",
       "stream": "stdout",
       "text": [
        " 1422902896\n",
        "121"
       ]
      },
      {
       "output_type": "stream",
       "stream": "stdout",
       "text": [
        " 1422903170\n",
        "122"
       ]
      },
      {
       "output_type": "stream",
       "stream": "stdout",
       "text": [
        " 1422903050\n",
        "123"
       ]
      },
      {
       "output_type": "stream",
       "stream": "stdout",
       "text": [
        " 1422903085\n",
        "124"
       ]
      },
      {
       "output_type": "stream",
       "stream": "stdout",
       "text": [
        " 1422903036\n",
        "125"
       ]
      },
      {
       "output_type": "stream",
       "stream": "stdout",
       "text": [
        " 1422902920\n",
        "126"
       ]
      },
      {
       "output_type": "stream",
       "stream": "stdout",
       "text": [
        " 1422903059\n",
        "127"
       ]
      },
      {
       "output_type": "stream",
       "stream": "stdout",
       "text": [
        " 1422903064\n",
        "128"
       ]
      },
      {
       "output_type": "stream",
       "stream": "stdout",
       "text": [
        " 1422903209\n",
        "129"
       ]
      },
      {
       "output_type": "stream",
       "stream": "stdout",
       "text": [
        " 1422903087\n",
        "130"
       ]
      },
      {
       "output_type": "stream",
       "stream": "stdout",
       "text": [
        " 1422903877\n",
        "131"
       ]
      },
      {
       "output_type": "stream",
       "stream": "stdout",
       "text": [
        " 1422903713\n",
        "132"
       ]
      },
      {
       "output_type": "stream",
       "stream": "stdout",
       "text": [
        " 1422903823\n",
        "133"
       ]
      },
      {
       "output_type": "stream",
       "stream": "stdout",
       "text": [
        " 1422904037\n",
        "134"
       ]
      },
      {
       "output_type": "stream",
       "stream": "stdout",
       "text": [
        " 1422904293\n",
        "135"
       ]
      },
      {
       "output_type": "stream",
       "stream": "stdout",
       "text": [
        " 1422904318\n",
        "136"
       ]
      },
      {
       "output_type": "stream",
       "stream": "stdout",
       "text": [
        " 1422904416\n",
        "137"
       ]
      },
      {
       "output_type": "stream",
       "stream": "stdout",
       "text": [
        " 1422904292\n",
        "138"
       ]
      },
      {
       "output_type": "stream",
       "stream": "stdout",
       "text": [
        " 1422904083\n",
        "139"
       ]
      },
      {
       "output_type": "stream",
       "stream": "stdout",
       "text": [
        " 1422904643\n",
        "140"
       ]
      },
      {
       "output_type": "stream",
       "stream": "stdout",
       "text": [
        " 1422904527\n",
        "141"
       ]
      },
      {
       "output_type": "stream",
       "stream": "stdout",
       "text": [
        " 1422904819\n",
        "142"
       ]
      },
      {
       "output_type": "stream",
       "stream": "stdout",
       "text": [
        " 1422904850\n",
        "143"
       ]
      },
      {
       "output_type": "stream",
       "stream": "stdout",
       "text": [
        " 1422904881\n",
        "144"
       ]
      },
      {
       "output_type": "stream",
       "stream": "stdout",
       "text": [
        " 1422905569\n",
        "145"
       ]
      },
      {
       "output_type": "stream",
       "stream": "stdout",
       "text": [
        " 1422906393\n",
        "146"
       ]
      },
      {
       "output_type": "stream",
       "stream": "stdout",
       "text": [
        " 1422906416\n",
        "147"
       ]
      },
      {
       "output_type": "stream",
       "stream": "stdout",
       "text": [
        " 1422906647\n",
        "148"
       ]
      },
      {
       "output_type": "stream",
       "stream": "stdout",
       "text": [
        " 1422906972\n",
        "149"
       ]
      },
      {
       "output_type": "stream",
       "stream": "stdout",
       "text": [
        " 1422907238\n",
        "150"
       ]
      },
      {
       "output_type": "stream",
       "stream": "stdout",
       "text": [
        " 1422907419\n",
        "151"
       ]
      },
      {
       "output_type": "stream",
       "stream": "stdout",
       "text": [
        " 1422907220\n",
        "152"
       ]
      },
      {
       "output_type": "stream",
       "stream": "stdout",
       "text": [
        " 1422907162\n",
        "153"
       ]
      },
      {
       "output_type": "stream",
       "stream": "stdout",
       "text": [
        " 1422907282\n",
        "154"
       ]
      },
      {
       "output_type": "stream",
       "stream": "stdout",
       "text": [
        " 1422907506\n",
        "155"
       ]
      },
      {
       "output_type": "stream",
       "stream": "stdout",
       "text": [
        " 1422908062\n",
        "156"
       ]
      },
      {
       "output_type": "stream",
       "stream": "stdout",
       "text": [
        " 1422908291\n",
        "157"
       ]
      },
      {
       "output_type": "stream",
       "stream": "stdout",
       "text": [
        " 1422908696\n",
        "158"
       ]
      },
      {
       "output_type": "stream",
       "stream": "stdout",
       "text": [
        " 1422908961\n",
        "159"
       ]
      },
      {
       "output_type": "stream",
       "stream": "stdout",
       "text": [
        " 1422909159\n"
       ]
      }
     ],
     "prompt_number": 33
    },
    {
     "cell_type": "code",
     "collapsed": false,
     "input": [
      "from lxml import etree\n",
      "\n",
      "root = etree.parse(xmlname)"
     ],
     "language": "python",
     "metadata": {},
     "outputs": [],
     "prompt_number": 11
    },
    {
     "cell_type": "code",
     "collapsed": false,
     "input": [],
     "language": "python",
     "metadata": {},
     "outputs": []
    },
    {
     "cell_type": "code",
     "collapsed": false,
     "input": [
      "root.xpath('/Particle/Log/value[@random_number_generator_seed]/@ random_number_generator_seed')"
     ],
     "language": "python",
     "metadata": {},
     "outputs": [
      {
       "metadata": {},
       "output_type": "pyout",
       "prompt_number": 24,
       "text": [
        "['1412173809', '1412173811']"
       ]
      }
     ],
     "prompt_number": 24
    },
    {
     "cell_type": "code",
     "collapsed": false,
     "input": [
      "dataframe"
     ],
     "language": "python",
     "metadata": {},
     "outputs": [
      {
       "html": [
        "<div style=\"max-height:1000px;max-width:1500px;overflow:auto;\">\n",
        "<table border=\"1\" class=\"dataframe\">\n",
        "  <thead>\n",
        "    <tr style=\"text-align: right;\">\n",
        "      <th></th>\n",
        "      <th>1</th>\n",
        "      <th>2</th>\n",
        "      <th>3</th>\n",
        "      <th>4</th>\n",
        "      <th>5</th>\n",
        "      <th>6</th>\n",
        "      <th>7</th>\n",
        "      <th>8</th>\n",
        "      <th>9</th>\n",
        "      <th>10</th>\n",
        "      <th>...</th>\n",
        "      <th>91</th>\n",
        "      <th>92</th>\n",
        "      <th>93</th>\n",
        "      <th>94</th>\n",
        "      <th>95</th>\n",
        "      <th>96</th>\n",
        "      <th>97</th>\n",
        "      <th>98</th>\n",
        "      <th>99</th>\n",
        "      <th>100</th>\n",
        "    </tr>\n",
        "  </thead>\n",
        "  <tbody>\n",
        "    <tr>\n",
        "      <th>m</th>\n",
        "      <td> 0.086492</td>\n",
        "      <td> 0.076350</td>\n",
        "      <td> 0.056549</td>\n",
        "      <td> 0.055475</td>\n",
        "      <td> 0.036366</td>\n",
        "      <td> 0.035467</td>\n",
        "      <td> 0.032518</td>\n",
        "      <td> 0.029083</td>\n",
        "      <td> 0.021756</td>\n",
        "      <td> 0.020386</td>\n",
        "      <td>...</td>\n",
        "      <td> 0.003214</td>\n",
        "      <td> 0.003143</td>\n",
        "      <td> 0.003083</td>\n",
        "      <td> 0.003073</td>\n",
        "      <td> 0.003068</td>\n",
        "      <td> 0.003051</td>\n",
        "      <td> 0.003029</td>\n",
        "      <td> 0.002977</td>\n",
        "      <td> 0.002954</td>\n",
        "      <td> 0.002899</td>\n",
        "    </tr>\n",
        "    <tr>\n",
        "      <th>pot</th>\n",
        "      <td>-0.986253</td>\n",
        "      <td>-1.500112</td>\n",
        "      <td>-1.590448</td>\n",
        "      <td>-0.551656</td>\n",
        "      <td>-1.036354</td>\n",
        "      <td>-1.669089</td>\n",
        "      <td>-0.555856</td>\n",
        "      <td>-1.112932</td>\n",
        "      <td>-1.295375</td>\n",
        "      <td>-0.768075</td>\n",
        "      <td>...</td>\n",
        "      <td>-0.730080</td>\n",
        "      <td>-1.161560</td>\n",
        "      <td>-1.045085</td>\n",
        "      <td>-0.401959</td>\n",
        "      <td>-0.271203</td>\n",
        "      <td>-0.931584</td>\n",
        "      <td>-1.090920</td>\n",
        "      <td>-0.583605</td>\n",
        "      <td>-0.386980</td>\n",
        "      <td>-0.702209</td>\n",
        "    </tr>\n",
        "    <tr>\n",
        "      <th>radius</th>\n",
        "      <td> 0.646123</td>\n",
        "      <td> 0.288265</td>\n",
        "      <td> 0.254029</td>\n",
        "      <td> 1.567877</td>\n",
        "      <td> 0.791893</td>\n",
        "      <td> 0.274731</td>\n",
        "      <td> 1.672572</td>\n",
        "      <td> 0.645084</td>\n",
        "      <td> 0.669202</td>\n",
        "      <td> 1.212326</td>\n",
        "      <td>...</td>\n",
        "      <td> 1.397930</td>\n",
        "      <td> 0.839851</td>\n",
        "      <td> 0.889034</td>\n",
        "      <td> 2.472900</td>\n",
        "      <td> 3.676114</td>\n",
        "      <td> 1.065968</td>\n",
        "      <td> 0.758107</td>\n",
        "      <td> 1.696666</td>\n",
        "      <td> 2.515531</td>\n",
        "      <td> 1.456558</td>\n",
        "    </tr>\n",
        "    <tr>\n",
        "      <th>vx</th>\n",
        "      <td>-0.153533</td>\n",
        "      <td>-0.423991</td>\n",
        "      <td>-1.040148</td>\n",
        "      <td> 0.004851</td>\n",
        "      <td> 0.477347</td>\n",
        "      <td> 0.470719</td>\n",
        "      <td> 0.278041</td>\n",
        "      <td>-0.002683</td>\n",
        "      <td>-0.574535</td>\n",
        "      <td>-0.024769</td>\n",
        "      <td>...</td>\n",
        "      <td>-0.108982</td>\n",
        "      <td> 0.833245</td>\n",
        "      <td> 0.003424</td>\n",
        "      <td>-0.230415</td>\n",
        "      <td> 0.384261</td>\n",
        "      <td>-0.118912</td>\n",
        "      <td> 0.276992</td>\n",
        "      <td> 0.290545</td>\n",
        "      <td> 0.015915</td>\n",
        "      <td> 0.194843</td>\n",
        "    </tr>\n",
        "    <tr>\n",
        "      <th>vy</th>\n",
        "      <td> 0.138383</td>\n",
        "      <td> 0.893553</td>\n",
        "      <td>-0.314631</td>\n",
        "      <td> 0.408811</td>\n",
        "      <td> 0.152615</td>\n",
        "      <td> 0.197469</td>\n",
        "      <td> 0.334964</td>\n",
        "      <td>-0.269029</td>\n",
        "      <td> 0.286433</td>\n",
        "      <td>-0.776898</td>\n",
        "      <td>...</td>\n",
        "      <td> 0.496785</td>\n",
        "      <td> 0.188090</td>\n",
        "      <td>-0.239112</td>\n",
        "      <td>-0.056980</td>\n",
        "      <td>-0.186250</td>\n",
        "      <td>-0.119427</td>\n",
        "      <td> 0.371087</td>\n",
        "      <td>-0.116442</td>\n",
        "      <td>-0.427409</td>\n",
        "      <td> 0.124453</td>\n",
        "    </tr>\n",
        "    <tr>\n",
        "      <th>vz</th>\n",
        "      <td> 0.170565</td>\n",
        "      <td> 0.653454</td>\n",
        "      <td> 0.367854</td>\n",
        "      <td>-0.589036</td>\n",
        "      <td>-0.109976</td>\n",
        "      <td>-0.424837</td>\n",
        "      <td>-0.217534</td>\n",
        "      <td> 0.282207</td>\n",
        "      <td>-0.836304</td>\n",
        "      <td> 0.038928</td>\n",
        "      <td>...</td>\n",
        "      <td>-0.188691</td>\n",
        "      <td>-0.218840</td>\n",
        "      <td>-0.756509</td>\n",
        "      <td> 0.014062</td>\n",
        "      <td>-0.218579</td>\n",
        "      <td> 0.091275</td>\n",
        "      <td>-0.138680</td>\n",
        "      <td>-0.296258</td>\n",
        "      <td> 0.191660</td>\n",
        "      <td> 0.062512</td>\n",
        "    </tr>\n",
        "    <tr>\n",
        "      <th>x</th>\n",
        "      <td>-0.432478</td>\n",
        "      <td>-0.032566</td>\n",
        "      <td> 0.229762</td>\n",
        "      <td> 0.405043</td>\n",
        "      <td>-0.489157</td>\n",
        "      <td>-0.176342</td>\n",
        "      <td>-1.593666</td>\n",
        "      <td> 0.288288</td>\n",
        "      <td> 0.404196</td>\n",
        "      <td> 0.527074</td>\n",
        "      <td>...</td>\n",
        "      <td>-0.681795</td>\n",
        "      <td>-0.546512</td>\n",
        "      <td> 0.200813</td>\n",
        "      <td>-2.449174</td>\n",
        "      <td> 2.144210</td>\n",
        "      <td>-0.450852</td>\n",
        "      <td> 0.723049</td>\n",
        "      <td>-0.396457</td>\n",
        "      <td>-1.623614</td>\n",
        "      <td>-1.443510</td>\n",
        "    </tr>\n",
        "    <tr>\n",
        "      <th>x_com</th>\n",
        "      <td>-0.432478</td>\n",
        "      <td>-0.032566</td>\n",
        "      <td> 0.229762</td>\n",
        "      <td> 0.405043</td>\n",
        "      <td>-0.489157</td>\n",
        "      <td>-0.176342</td>\n",
        "      <td>-1.593666</td>\n",
        "      <td> 0.288288</td>\n",
        "      <td> 0.404196</td>\n",
        "      <td> 0.527074</td>\n",
        "      <td>...</td>\n",
        "      <td>-0.681795</td>\n",
        "      <td>-0.546512</td>\n",
        "      <td> 0.200813</td>\n",
        "      <td>-2.449174</td>\n",
        "      <td> 2.144210</td>\n",
        "      <td>-0.450852</td>\n",
        "      <td> 0.723049</td>\n",
        "      <td>-0.396457</td>\n",
        "      <td>-1.623614</td>\n",
        "      <td>-1.443510</td>\n",
        "    </tr>\n",
        "    <tr>\n",
        "      <th>x_mcom</th>\n",
        "      <td>-0.419069</td>\n",
        "      <td>-0.019157</td>\n",
        "      <td> 0.243171</td>\n",
        "      <td> 0.418452</td>\n",
        "      <td>-0.475747</td>\n",
        "      <td>-0.162933</td>\n",
        "      <td>-1.580257</td>\n",
        "      <td> 0.301697</td>\n",
        "      <td> 0.417605</td>\n",
        "      <td> 0.540483</td>\n",
        "      <td>...</td>\n",
        "      <td>-0.668386</td>\n",
        "      <td>-0.533103</td>\n",
        "      <td> 0.214222</td>\n",
        "      <td>-2.435764</td>\n",
        "      <td> 2.157620</td>\n",
        "      <td>-0.437443</td>\n",
        "      <td> 0.736458</td>\n",
        "      <td>-0.383048</td>\n",
        "      <td>-1.610205</td>\n",
        "      <td>-1.430101</td>\n",
        "    </tr>\n",
        "    <tr>\n",
        "      <th>y</th>\n",
        "      <td> 0.474140</td>\n",
        "      <td>-0.227040</td>\n",
        "      <td>-0.037269</td>\n",
        "      <td>-0.464513</td>\n",
        "      <td>-0.230574</td>\n",
        "      <td>-0.206746</td>\n",
        "      <td>-0.365036</td>\n",
        "      <td> 0.206972</td>\n",
        "      <td> 0.211644</td>\n",
        "      <td> 0.144569</td>\n",
        "      <td>...</td>\n",
        "      <td>-0.309350</td>\n",
        "      <td> 0.624582</td>\n",
        "      <td> 0.862276</td>\n",
        "      <td> 0.075286</td>\n",
        "      <td> 0.978511</td>\n",
        "      <td>-0.229978</td>\n",
        "      <td> 0.222550</td>\n",
        "      <td>-0.046055</td>\n",
        "      <td> 1.849536</td>\n",
        "      <td>-0.067812</td>\n",
        "    </tr>\n",
        "    <tr>\n",
        "      <th>y_com</th>\n",
        "      <td> 0.474140</td>\n",
        "      <td>-0.227040</td>\n",
        "      <td>-0.037269</td>\n",
        "      <td>-0.464513</td>\n",
        "      <td>-0.230574</td>\n",
        "      <td>-0.206746</td>\n",
        "      <td>-0.365036</td>\n",
        "      <td> 0.206972</td>\n",
        "      <td> 0.211644</td>\n",
        "      <td> 0.144569</td>\n",
        "      <td>...</td>\n",
        "      <td>-0.309350</td>\n",
        "      <td> 0.624582</td>\n",
        "      <td> 0.862276</td>\n",
        "      <td> 0.075286</td>\n",
        "      <td> 0.978511</td>\n",
        "      <td>-0.229978</td>\n",
        "      <td> 0.222550</td>\n",
        "      <td>-0.046055</td>\n",
        "      <td> 1.849536</td>\n",
        "      <td>-0.067812</td>\n",
        "    </tr>\n",
        "    <tr>\n",
        "      <th>y_mcom</th>\n",
        "      <td> 0.468189</td>\n",
        "      <td>-0.232991</td>\n",
        "      <td>-0.043220</td>\n",
        "      <td>-0.470464</td>\n",
        "      <td>-0.236525</td>\n",
        "      <td>-0.212697</td>\n",
        "      <td>-0.370987</td>\n",
        "      <td> 0.201021</td>\n",
        "      <td> 0.205693</td>\n",
        "      <td> 0.138618</td>\n",
        "      <td>...</td>\n",
        "      <td>-0.315301</td>\n",
        "      <td> 0.618631</td>\n",
        "      <td> 0.856325</td>\n",
        "      <td> 0.069334</td>\n",
        "      <td> 0.972560</td>\n",
        "      <td>-0.235929</td>\n",
        "      <td> 0.216599</td>\n",
        "      <td>-0.052006</td>\n",
        "      <td> 1.843585</td>\n",
        "      <td>-0.073763</td>\n",
        "    </tr>\n",
        "    <tr>\n",
        "      <th>z</th>\n",
        "      <td> 0.075023</td>\n",
        "      <td>-0.174611</td>\n",
        "      <td>-0.101741</td>\n",
        "      <td> 1.441668</td>\n",
        "      <td>-0.578494</td>\n",
        "      <td>-0.040456</td>\n",
        "      <td>-0.352809</td>\n",
        "      <td> 0.538689</td>\n",
        "      <td>-0.489554</td>\n",
        "      <td>-1.082141</td>\n",
        "      <td>...</td>\n",
        "      <td>-1.180536</td>\n",
        "      <td>-0.128731</td>\n",
        "      <td>-0.080843</td>\n",
        "      <td> 0.333342</td>\n",
        "      <td>-2.821116</td>\n",
        "      <td>-0.938152</td>\n",
        "      <td> 0.048968</td>\n",
        "      <td>-1.649054</td>\n",
        "      <td>-0.520566</td>\n",
        "      <td>-0.182320</td>\n",
        "    </tr>\n",
        "    <tr>\n",
        "      <th>z_com</th>\n",
        "      <td> 0.075023</td>\n",
        "      <td>-0.174611</td>\n",
        "      <td>-0.101741</td>\n",
        "      <td> 1.441668</td>\n",
        "      <td>-0.578494</td>\n",
        "      <td>-0.040456</td>\n",
        "      <td>-0.352809</td>\n",
        "      <td> 0.538689</td>\n",
        "      <td>-0.489554</td>\n",
        "      <td>-1.082141</td>\n",
        "      <td>...</td>\n",
        "      <td>-1.180536</td>\n",
        "      <td>-0.128731</td>\n",
        "      <td>-0.080843</td>\n",
        "      <td> 0.333342</td>\n",
        "      <td>-2.821116</td>\n",
        "      <td>-0.938152</td>\n",
        "      <td> 0.048968</td>\n",
        "      <td>-1.649054</td>\n",
        "      <td>-0.520566</td>\n",
        "      <td>-0.182320</td>\n",
        "    </tr>\n",
        "    <tr>\n",
        "      <th>z_mcom</th>\n",
        "      <td> 0.129940</td>\n",
        "      <td>-0.119693</td>\n",
        "      <td>-0.046824</td>\n",
        "      <td> 1.496586</td>\n",
        "      <td>-0.523576</td>\n",
        "      <td> 0.014462</td>\n",
        "      <td>-0.297891</td>\n",
        "      <td> 0.593607</td>\n",
        "      <td>-0.434636</td>\n",
        "      <td>-1.027223</td>\n",
        "      <td>...</td>\n",
        "      <td>-1.125618</td>\n",
        "      <td>-0.073814</td>\n",
        "      <td>-0.025925</td>\n",
        "      <td> 0.388260</td>\n",
        "      <td>-2.766198</td>\n",
        "      <td>-0.883235</td>\n",
        "      <td> 0.103886</td>\n",
        "      <td>-1.594136</td>\n",
        "      <td>-0.465649</td>\n",
        "      <td>-0.127402</td>\n",
        "    </tr>\n",
        "  </tbody>\n",
        "</table>\n",
        "<p>15 rows \u00d7 100 columns</p>\n",
        "</div>"
       ],
       "metadata": {},
       "output_type": "pyout",
       "prompt_number": 12,
       "text": [
        "             1         2         3         4         5         6         7    \\\n",
        "m       0.086492  0.076350  0.056549  0.055475  0.036366  0.035467  0.032518   \n",
        "pot    -0.986253 -1.500112 -1.590448 -0.551656 -1.036354 -1.669089 -0.555856   \n",
        "radius  0.646123  0.288265  0.254029  1.567877  0.791893  0.274731  1.672572   \n",
        "vx     -0.153533 -0.423991 -1.040148  0.004851  0.477347  0.470719  0.278041   \n",
        "vy      0.138383  0.893553 -0.314631  0.408811  0.152615  0.197469  0.334964   \n",
        "vz      0.170565  0.653454  0.367854 -0.589036 -0.109976 -0.424837 -0.217534   \n",
        "x      -0.432478 -0.032566  0.229762  0.405043 -0.489157 -0.176342 -1.593666   \n",
        "x_com  -0.432478 -0.032566  0.229762  0.405043 -0.489157 -0.176342 -1.593666   \n",
        "x_mcom -0.419069 -0.019157  0.243171  0.418452 -0.475747 -0.162933 -1.580257   \n",
        "y       0.474140 -0.227040 -0.037269 -0.464513 -0.230574 -0.206746 -0.365036   \n",
        "y_com   0.474140 -0.227040 -0.037269 -0.464513 -0.230574 -0.206746 -0.365036   \n",
        "y_mcom  0.468189 -0.232991 -0.043220 -0.470464 -0.236525 -0.212697 -0.370987   \n",
        "z       0.075023 -0.174611 -0.101741  1.441668 -0.578494 -0.040456 -0.352809   \n",
        "z_com   0.075023 -0.174611 -0.101741  1.441668 -0.578494 -0.040456 -0.352809   \n",
        "z_mcom  0.129940 -0.119693 -0.046824  1.496586 -0.523576  0.014462 -0.297891   \n",
        "\n",
        "             8         9         10     ...          91        92        93   \\\n",
        "m       0.029083  0.021756  0.020386    ...     0.003214  0.003143  0.003083   \n",
        "pot    -1.112932 -1.295375 -0.768075    ...    -0.730080 -1.161560 -1.045085   \n",
        "radius  0.645084  0.669202  1.212326    ...     1.397930  0.839851  0.889034   \n",
        "vx     -0.002683 -0.574535 -0.024769    ...    -0.108982  0.833245  0.003424   \n",
        "vy     -0.269029  0.286433 -0.776898    ...     0.496785  0.188090 -0.239112   \n",
        "vz      0.282207 -0.836304  0.038928    ...    -0.188691 -0.218840 -0.756509   \n",
        "x       0.288288  0.404196  0.527074    ...    -0.681795 -0.546512  0.200813   \n",
        "x_com   0.288288  0.404196  0.527074    ...    -0.681795 -0.546512  0.200813   \n",
        "x_mcom  0.301697  0.417605  0.540483    ...    -0.668386 -0.533103  0.214222   \n",
        "y       0.206972  0.211644  0.144569    ...    -0.309350  0.624582  0.862276   \n",
        "y_com   0.206972  0.211644  0.144569    ...    -0.309350  0.624582  0.862276   \n",
        "y_mcom  0.201021  0.205693  0.138618    ...    -0.315301  0.618631  0.856325   \n",
        "z       0.538689 -0.489554 -1.082141    ...    -1.180536 -0.128731 -0.080843   \n",
        "z_com   0.538689 -0.489554 -1.082141    ...    -1.180536 -0.128731 -0.080843   \n",
        "z_mcom  0.593607 -0.434636 -1.027223    ...    -1.125618 -0.073814 -0.025925   \n",
        "\n",
        "             94        95        96        97        98        99        100  \n",
        "m       0.003073  0.003068  0.003051  0.003029  0.002977  0.002954  0.002899  \n",
        "pot    -0.401959 -0.271203 -0.931584 -1.090920 -0.583605 -0.386980 -0.702209  \n",
        "radius  2.472900  3.676114  1.065968  0.758107  1.696666  2.515531  1.456558  \n",
        "vx     -0.230415  0.384261 -0.118912  0.276992  0.290545  0.015915  0.194843  \n",
        "vy     -0.056980 -0.186250 -0.119427  0.371087 -0.116442 -0.427409  0.124453  \n",
        "vz      0.014062 -0.218579  0.091275 -0.138680 -0.296258  0.191660  0.062512  \n",
        "x      -2.449174  2.144210 -0.450852  0.723049 -0.396457 -1.623614 -1.443510  \n",
        "x_com  -2.449174  2.144210 -0.450852  0.723049 -0.396457 -1.623614 -1.443510  \n",
        "x_mcom -2.435764  2.157620 -0.437443  0.736458 -0.383048 -1.610205 -1.430101  \n",
        "y       0.075286  0.978511 -0.229978  0.222550 -0.046055  1.849536 -0.067812  \n",
        "y_com   0.075286  0.978511 -0.229978  0.222550 -0.046055  1.849536 -0.067812  \n",
        "y_mcom  0.069334  0.972560 -0.235929  0.216599 -0.052006  1.843585 -0.073763  \n",
        "z       0.333342 -2.821116 -0.938152  0.048968 -1.649054 -0.520566 -0.182320  \n",
        "z_com   0.333342 -2.821116 -0.938152  0.048968 -1.649054 -0.520566 -0.182320  \n",
        "z_mcom  0.388260 -2.766198 -0.883235  0.103886 -1.594136 -0.465649 -0.127402  \n",
        "\n",
        "[15 rows x 100 columns]"
       ]
      }
     ],
     "prompt_number": 12
    },
    {
     "cell_type": "code",
     "collapsed": false,
     "input": [
      "from lxml import etree"
     ],
     "language": "python",
     "metadata": {},
     "outputs": [],
     "prompt_number": 9
    },
    {
     "cell_type": "code",
     "collapsed": false,
     "input": [
      "etree.parse(xmlname)"
     ],
     "language": "python",
     "metadata": {},
     "outputs": [
      {
       "ename": "XMLSyntaxError",
       "evalue": "error parsing attribute name, line 18, column 7",
       "output_type": "pyerr",
       "traceback": [
        "\u001b[1;36m  File \u001b[1;32m\"<string>\"\u001b[1;36m, line \u001b[1;32munknown\u001b[0m\n\u001b[1;31mXMLSyntaxError\u001b[0m\u001b[1;31m:\u001b[0m error parsing attribute name, line 18, column 7\n"
       ]
      }
     ],
     "prompt_number": 10
    },
    {
     "cell_type": "code",
     "collapsed": false,
     "input": [
      "xmlname"
     ],
     "language": "python",
     "metadata": {},
     "outputs": [
      {
       "metadata": {},
       "output_type": "pyout",
       "prompt_number": 11,
       "text": [
        "'.warehouse/d15ab2ca-537c-11e4-bd87-0030489e87c6.0.xml'"
       ]
      }
     ],
     "prompt_number": 11
    },
    {
     "cell_type": "markdown",
     "metadata": {},
     "source": [
      "Let's run a small ensemble and see if it stores correctly."
     ]
    },
    {
     "cell_type": "code",
     "collapsed": false,
     "input": [
      "from IPython.parallel import Client\n",
      "rc = Client(profile='Miller')\n",
      "len(rc.ids)"
     ],
     "language": "python",
     "metadata": {},
     "outputs": [
      {
       "metadata": {},
       "output_type": "pyout",
       "prompt_number": 13,
       "text": [
        "15"
       ]
      }
     ],
     "prompt_number": 13
    },
    {
     "cell_type": "code",
     "collapsed": false,
     "input": [
      "len(rc.ids)"
     ],
     "language": "python",
     "metadata": {},
     "outputs": [
      {
       "metadata": {},
       "output_type": "pyout",
       "prompt_number": 14,
       "text": [
        "80"
       ]
      }
     ],
     "prompt_number": 14
    },
    {
     "cell_type": "code",
     "collapsed": false,
     "input": [
      "lbv = rc.load_balanced_view()"
     ],
     "language": "python",
     "metadata": {},
     "outputs": [],
     "prompt_number": 15
    },
    {
     "cell_type": "code",
     "collapsed": false,
     "input": [
      "def run_ensemble(rc=rc, nruns=10, nstars=100, kingmodel=True, **kwargs):\n",
      "    starttime = datetime.datetime.now()\n",
      "    print \"Starting at \", starttime\n",
      "    lbv = rc.load_balanced_view()\n",
      "    runs = [starlab.Run(nstars=nstars, kingmodel=kingmodel, **kwargs)]*nruns\n",
      "    print lbv\n",
      "    print '_______________________'\n",
      "    print runs\n",
      "\n",
      "    print \"Launching %d runs\" % nruns\n",
      "    results = lbv.map(starlab.single_run, runs)\n",
      "    results.wait()\n",
      "    \n",
      "    ensemble_uuid = uuid.uuid1()\n",
      "    ensemble_results_file_name = str(ensemble_uuid)+\".ensemble\"\n",
      "    ensemble_results_file = open(ensemble_results_file_name, \"wb\")\n",
      "\n",
      "    print \"Storing results in %s\" %ensemble_results_file_name\n",
      "    resultlist = results[:]\n",
      "    pickle.dump(resultlist, ensemble_results_file)\n",
      "    \n",
      "    endtime = datetime.datetime.now()\n",
      "    print \"Finished at \", endtime\n",
      "    print \"Elapsed time: \", endtime - starttime "
     ],
     "language": "python",
     "metadata": {},
     "outputs": [],
     "prompt_number": 16
    },
    {
     "cell_type": "code",
     "collapsed": false,
     "input": [
      "run_ensemble()"
     ],
     "language": "python",
     "metadata": {},
     "outputs": [
      {
       "output_type": "stream",
       "stream": "stdout",
       "text": [
        "Starting at  2015-01-31 10:36:23.374922\n",
        "<LoadBalancedView None>\n",
        "_______________________\n",
        "[<starlab.Run instance at 0x7fdd367e8a28>, <starlab.Run instance at 0x7fdd367e8a28>, <starlab.Run instance at 0x7fdd367e8a28>, <starlab.Run instance at 0x7fdd367e8a28>, <starlab.Run instance at 0x7fdd367e8a28>, <starlab.Run instance at 0x7fdd367e8a28>, <starlab.Run instance at 0x7fdd367e8a28>, <starlab.Run instance at 0x7fdd367e8a28>, <starlab.Run instance at 0x7fdd367e8a28>, <starlab.Run instance at 0x7fdd367e8a28>]\n",
        "Launching 10 runs\n",
        "Storing results in f6ff79e2-a95e-11e4-90e0-90e2ba0993e2.ensemble"
       ]
      },
      {
       "output_type": "stream",
       "stream": "stdout",
       "text": [
        "\n",
        "Finished at  2015-01-31 10:36:46.393941\n",
        "Elapsed time:  0:00:23.019019\n"
       ]
      }
     ],
     "prompt_number": 21
    },
    {
     "cell_type": "code",
     "collapsed": false,
     "input": [
      "!ls .warehouse/71ad509e-a94e-11e4-aceb-0030489e87b0.kiraout"
     ],
     "language": "python",
     "metadata": {},
     "outputs": [
      {
       "output_type": "stream",
       "stream": "stdout",
       "text": [
        "ls: cannot access .warehouse/71ad509e-a94e-11e4-aceb-0030489e87b0.kiraout: No such file or directory\r\n"
       ]
      }
     ],
     "prompt_number": 18
    },
    {
     "cell_type": "code",
     "collapsed": false,
     "input": [
      "!ls .warehouse/*.kiraout | wc"
     ],
     "language": "python",
     "metadata": {},
     "outputs": [
      {
       "output_type": "stream",
       "stream": "stdout",
       "text": [
        "    613     613   34328\r\n"
       ]
      }
     ],
     "prompt_number": 20
    },
    {
     "cell_type": "code",
     "collapsed": false,
     "input": [],
     "language": "python",
     "metadata": {},
     "outputs": []
    }
   ],
   "metadata": {}
  }
 ]
}